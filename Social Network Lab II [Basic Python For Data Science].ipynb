{
 "cells": [
  {
   "cell_type": "markdown",
   "id": "d1bdfe0c",
   "metadata": {},
   "source": [
    "<!--TABLE OF CONTENTS-->\n",
    "Contents:\n",
    "- [Social Network Lab II [Basic Python For Data Science]](#Social-Network-Lab-II-[Basic-Python-For-Data-Science])\n",
    "    - [Simple Histogram](#Simple-Histogram)\n",
    "    - [Central Tendencies, mean()](#Central-Tendencies,-mean())\n",
    "    - [median()](#median())\n",
    "    - [Quantile](#Quantile)\n",
    "    - [Mode](#Mode)\n",
    "    - [Dispersion](#Dispersion)\n",
    "    - [Variance](#Variance)\n",
    "    - [Standard Deviation](#Standard-Deviation)"
   ]
  },
  {
   "cell_type": "markdown",
   "id": "32499873-bdd7-4846-aa18-11e80a85d728",
   "metadata": {},
   "source": [
    "# Social Network Lab II [Basic Python For Data Science]"
   ]
  },
  {
   "cell_type": "code",
   "execution_count": 17,
   "id": "401277bb-7627-4445-9182-8dd8137cae6c",
   "metadata": {},
   "outputs": [
    {
     "name": "stdout",
     "output_type": "stream",
     "text": [
      "[(0, 3), (1, 2), (2, 4), (3, 3), (4, 5), (5, 3), (6, 1), (7, 2), (8, 2), (9, 3)]\n"
     ]
    }
   ],
   "source": [
    "# Data taken from my other notebook \"Social Network Lab: finding connections, counts, sums and others\"\n",
    "# Notice the structure, users is a list of dictionaries\n",
    "users = [\n",
    "    {'id':0,'name':'Hero'},\n",
    "    {'id':1,'name':'Dunn'},\n",
    "    {'id':2,'name':'Sue'},\n",
    "    {'id':3,'name':'Chi'},\n",
    "    {'id':4,'name':'Thor'},\n",
    "    {'id':5,'name':'Clive'},\n",
    "    {'id':6,'name':'Hicks'},\n",
    "    {'id':7,'name':'Devin'},\n",
    "    {'id':8,'name':'Kate'},\n",
    "    {'id':9,'name':'Klein'},\n",
    "]\n",
    "\n",
    "# The friendship data, this is, the network connections as a pair of userId:friendId\n",
    "friendships = [\n",
    "    (0,1),(0,2),(0,9),\n",
    "    (1,0),(1,9),\n",
    "    (2,0),(2,3),(2,5),(2,7),\n",
    "    (3,2),(3,5),(3,8),\n",
    "    (4,5),(4,6),(4,7),(4,8),(4,9),\n",
    "    (5,2),(5,3),(5,4),\n",
    "    (6,4),\n",
    "    (7,2),(7,4),\n",
    "    (8,3),(8,4),\n",
    "    (9,0),(9,1),(9,4)\n",
    "];\n",
    "\n",
    "#Add a list of friends to each user\n",
    "for user in users:\n",
    "    user['friends'] = []\n",
    "    \n",
    "# Fill in the list using the friendship data\n",
    "for i,j in friendships: #i and j are integers and also represent users ids\n",
    "    users[i]['friends'].append(users[j]) # i is now in the j friends list\n",
    "\n",
    "# sort users by nr of connections\n",
    "nr_friends_by_id = [(user['id'], len(user['friends'])) for user in users]\n",
    "print(nr_friends_by_id) # the unsorted list"
   ]
  },
  {
   "cell_type": "markdown",
   "id": "d00c1fa9-fb96-4376-8e58-450399a51555",
   "metadata": {},
   "source": [
    "### Simple Histogram\n",
    "\n",
    "Show how many people have how many friends"
   ]
  },
  {
   "cell_type": "code",
   "execution_count": 18,
   "id": "44ff8a25-5ba0-4cf0-9813-e980df956431",
   "metadata": {},
   "outputs": [
    {
     "data": {
      "image/png": "[encoded data removed]",
      "text/plain": [
       "<Figure size 640x480 with 1 Axes>"
      ]
     },
     "metadata": {},
     "output_type": "display_data"
    }
   ],
   "source": [
    "from collections import Counter\n",
    "from matplotlib import pyplot as plt\n",
    "\n",
    "# How many people have how many friends. Example: 1 person has 3 friends, 2 persons have 5 friends, 0 persons have 100 friends, etc\n",
    "num_friends = {}\n",
    "for user in users:\n",
    "    if not len(user['friends']) in num_friends:\n",
    "        num_friends[len(user['friends'])] = 1\n",
    "    else:\n",
    "        num_friends[len(user['friends'])] = num_friends[len(user['friends'])] + 1\n",
    "\n",
    "# the dictionary format is num_friends : num_people\n",
    "num_friends = {k: v for k, v in sorted(num_friends.items(), key=lambda x: x[1], reverse=False)}\n",
    "# print(num_friends)\n",
    "\n",
    "friends_count = Counter(num_friends)\n",
    "\n",
    "xs = range(10) # the largest x value is 100\n",
    "ys = [friends_count[x] for x in xs] # the y axis is the number of friends\n",
    "plt.bar(xs, ys)\n",
    "plt.axis([0, 10, 0, 10])\n",
    "plt.title('Friends Count')\n",
    "plt.xlabel('# friends')\n",
    "plt.ylabel('x people')\n",
    "plt.show()"
   ]
  },
  {
   "cell_type": "markdown",
   "id": "bd028d7c-619a-4ce2-bbbb-3bdd210985ab",
   "metadata": {},
   "source": [
    "### Central Tendencies, mean()"
   ]
  },
  {
   "cell_type": "code",
   "execution_count": 19,
   "id": "68c0df9f-9634-4b0c-923a-8157b63152de",
   "metadata": {},
   "outputs": [
    {
     "name": "stdout",
     "output_type": "stream",
     "text": [
      "\n",
      " Mean number of friends: 3.0\n"
     ]
    }
   ],
   "source": [
    "from __future__ import division\n",
    "def mean(x):\n",
    "    return sum(x) / len(x)\n",
    "\n",
    "print('\\n Mean number of friends: {}'.format(mean(num_friends)))"
   ]
  },
  {
   "cell_type": "markdown",
   "id": "39ee62a4-1646-44b8-be94-9c74d1b74809",
   "metadata": {},
   "source": [
    "### median()\n",
    "\n",
    "The mathematical formula for Median is: Median = {(n + 1) / 2}th value, where n is the number of values in a set of data. In order to calculate the median, the data must first be sorted in ascending order. The median is the number in the middle.\n",
    "\n",
    "If the number of data values is odd, it returns the exact middle value. If the number of data values is even, it returns the average of the two middle values."
   ]
  },
  {
   "cell_type": "code",
   "execution_count": 20,
   "id": "423a1c4a-2106-4c5d-a349-b8a4cf466162",
   "metadata": {},
   "outputs": [
    {
     "name": "stdout",
     "output_type": "stream",
     "text": [
      "len(v) 5, midpoint 2\n",
      "\n",
      " Number of friends median: 3\n"
     ]
    }
   ],
   "source": [
    "def median(v):\n",
    "    n = len(v)\n",
    "    sorted_v = sorted(v)\n",
    "    midpoint = n // 2\n",
    "    print('len(v) {}, midpoint {}'.format(n, midpoint))\n",
    "    if n%2 == 1:\n",
    "        return sorted_v[midpoint]\n",
    "    else:\n",
    "        lo = midpoint = -1\n",
    "        hi = midpoint\n",
    "        return (sorted_v[lo] + sorted_v[hi])/2\n",
    "\n",
    "print(\"\\n Number of friends median: {}\".format(median(num_friends)))\n",
    "    "
   ]
  },
  {
   "cell_type": "markdown",
   "id": "f0cba12d-2a60-4fa7-95ec-ff203fb141e4",
   "metadata": {},
   "source": [
    "### Quantile\n",
    "\n",
    "Quantiles are a type of percentile. A percentile is a value with a certain percentage of the data falling below it. In general terms, k% of the data falls below the kth percentile."
   ]
  },
  {
   "cell_type": "code",
   "execution_count": 21,
   "id": "2bba2205-74a3-42a3-86a8-c508e40d5848",
   "metadata": {},
   "outputs": [
    {
     "name": "stdout",
     "output_type": "stream",
     "text": [
      "2 3 4\n",
      "1 4 5\n"
     ]
    }
   ],
   "source": [
    "def quantile(x, p):\n",
    "    p_index = int(p * len(x))\n",
    "    return sorted(x)[p_index]\n",
    "\n",
    "print(quantile(num_friends, 0.25), quantile(num_friends, 0.50), quantile(num_friends, 0.75))\n",
    "print(quantile(num_friends, 0.10), quantile(num_friends, 0.60), quantile(num_friends, 0.90))"
   ]
  },
  {
   "cell_type": "markdown",
   "id": "cb14ff7a-b252-4f83-9ef4-6e33d01b86a4",
   "metadata": {},
   "source": [
    "### Mode\n",
    "\n",
    "The mode is the value that appears most frequently in a data set. A set of data may have one mode, more than one mode, or no mode at all."
   ]
  },
  {
   "cell_type": "code",
   "execution_count": 22,
   "id": "0aac331c-5dc7-4c48-9446-c510a825b705",
   "metadata": {},
   "outputs": [
    {
     "name": "stdout",
     "output_type": "stream",
     "text": [
      "[3]\n"
     ]
    }
   ],
   "source": [
    "def mode(x):\n",
    "    counts = Counter(x)\n",
    "    max_count = max(counts.values())\n",
    "    return [x_i for x_i, count in counts.items() if count == max_count]\n",
    "\n",
    "print(mode(num_friends))\n",
    "    "
   ]
  },
  {
   "cell_type": "markdown",
   "id": "8e532638-6a45-4162-ade1-4a12772ae194",
   "metadata": {},
   "source": [
    "### Dispersion\n",
    "\n",
    "In statistics, measures of dispersion quantify the spread or variability of a dataset. \n",
    "\n",
    "Range shows how much greater the highest value a data set. \n",
    "\n",
    "Variance computes the mean square deviation of all observations; standard deviation is the square root of variance. They are widely used because they can be sensitive towards outliers and also present a very simple interpretation. "
   ]
  },
  {
   "cell_type": "code",
   "execution_count": 23,
   "id": "4d46bfbe-fd95-4aab-a771-ba19f07babf6",
   "metadata": {},
   "outputs": [
    {
     "name": "stdout",
     "output_type": "stream",
     "text": [
      "Dataset range: 4\n",
      "[973, 492, 23, 569, -355, -418, 1410, 1008, 1384, -719, -232, -1413, 222, 1002, 753, 69, 535, 1471, -393, 25, 410, 1386, -187, 495, 602, 1378, -1124, -1239, -823, 882, -594, -1128, -512, 990, 650, -690, 573, 921, -732, -1342, 1218, 560, 251, 237, -431, -312, 1015, -202, 240, -802, 1466, -267, 1107, 163, 934, 450, 499, 1152, 809, 294, -503, -211, 1388, -409, -1223, 897, 56, 123, 1345, 123, -1454, -1255, -1126, 630, 536, -72, -113, -1348, -514, 27, -760, -1018, 502, 1315, -615, 21, -1017, -321, 997, 532, 1261, -959, 159, -863, -166, -657, -471, -1482, -1025, -408]\n",
      "Dataset range: 2953\n"
     ]
    }
   ],
   "source": [
    "# the name \"range\" is already taken in Python\n",
    "def data_range(x):\n",
    "    return max(x) - min(x)\n",
    "\n",
    "print('Dataset range: {}'.format(data_range(num_friends)))\n",
    "\n",
    "# Try it with some random data\n",
    "\n",
    "import random\n",
    " \n",
    "rand_list=[]\n",
    "n=100\n",
    "for i in range(n):\n",
    "    rand_list.append(random.randint(-1500,1500))\n",
    "print(rand_list)\n",
    "print('Dataset range: {}'.format(data_range(rand_list)))\n"
   ]
  },
  {
   "cell_type": "markdown",
   "id": "142cc6fb-b02b-44f5-9f88-bf492a4b9d57",
   "metadata": {},
   "source": [
    "### Variance"
   ]
  },
  {
   "cell_type": "code",
   "execution_count": 24,
   "id": "7671f0c6-bc1b-40ff-a361-85efc94286e4",
   "metadata": {},
   "outputs": [
    {
     "name": "stdout",
     "output_type": "stream",
     "text": [
      "Variance num_friends: 2.5\n"
     ]
    }
   ],
   "source": [
    "def sum_of_squares(n):\n",
    "    sq = 0\n",
    "    for i in n:\n",
    "        sq = sq + (i * i)\n",
    " \n",
    "    return sq\n",
    "    \n",
    "def de_mean(x):\n",
    "    \"\"\" Translates x by substracting its mean, so the result has 0 mean \"\"\"\n",
    "    x_bar = mean(x)\n",
    "    return [x_i - x_bar for x_i in x]\n",
    "\n",
    "def variance(x):\n",
    "    n = len(x)\n",
    "    deviations = de_mean(x)\n",
    "    return sum_of_squares(deviations) / (n - 1)\n",
    "\n",
    "print('Variance num_friends: {}'.format(variance(num_friends)))"
   ]
  },
  {
   "cell_type": "markdown",
   "id": "79a53eb2-b64c-4e04-ade2-ade6e76b7396",
   "metadata": {},
   "source": [
    "### Standard Deviation"
   ]
  },
  {
   "cell_type": "code",
   "execution_count": null,
   "id": "7ce8f060-4d05-45d2-866c-392521f48543",
   "metadata": {},
   "outputs": [],
   "source": [
    "def standard_deviation(x):\n",
    "    return math.sqrt(variance(x))\n",
    "\n",
    "print('Standard Deviation num_friends: {}'.format(standard_deviation(num_friends)))"
   ]
  }
 ],
 "metadata": {
  "kernelspec": {
   "display_name": "Python 3 (ipykernel)",
   "language": "python",
   "name": "python3"
  },
  "language_info": {
   "codemirror_mode": {
    "name": "ipython",
    "version": 3
   },
   "file_extension": ".py",
   "mimetype": "text/x-python",
   "name": "python",
   "nbconvert_exporter": "python",
   "pygments_lexer": "ipython3",
   "version": "3.10.12"
  }
 },
 "nbformat": 4,
 "nbformat_minor": 5
}

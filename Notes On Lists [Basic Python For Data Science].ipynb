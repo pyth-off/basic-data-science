{
 "cells": [
  {
   "cell_type": "markdown",
   "id": "dadc64f6-d982-4662-ae68-99b995613050",
   "metadata": {},
   "source": [
    "# Notes On Lists [Basic Python For Data Science]"
   ]
  },
  {
   "cell_type": "markdown",
   "id": "ceed3c78",
   "metadata": {},
   "source": [
    "<!--TABLE OF CONTENTS-->\n",
    "Contents:\n",
    "- [Notes On Lists [Basic Python For Data Science]](#Notes-On-Lists-[Basic-Python-For-Data-Science])\n",
    "  - [Lists](#Lists)\n",
    "  - [Lenght, access elements, find elements](#Lenght,-access-elements,-find-elements)\n",
    "  - [Concatenate, append, unpack](#Concatenate,-append,-unpack)"
   ]
  },
  {
   "cell_type": "markdown",
   "id": "e75cad8d-f743-4542-8496-1d18da5797b2",
   "metadata": {},
   "source": [
    "## Lists\n",
    "\n",
    "1. Used to store multiple items in a single variable.\n",
    "2. One of 4 built-in data types in Python used to store collections of data, the other 3 are Tuple, Set, and Dictionary, all with different qualities and usage.\n",
    "3. Created using square brackets.\n",
    "4. *Ordered, changeable, and allow duplicate values*.\n",
    "5. Indexed, the first item has index [0], the second item has index [1] etc."
   ]
  },
  {
   "cell_type": "code",
   "execution_count": 54,
   "id": "c92ca5cf-546a-4a48-9e4b-83191846049c",
   "metadata": {},
   "outputs": [
    {
     "name": "stdout",
     "output_type": "stream",
     "text": [
      "[1, 2, 3, 4, 5]\n"
     ]
    }
   ],
   "source": [
    "integer_list = [1,2,3,4,5]\n",
    "print(integer_list)"
   ]
  },
  {
   "cell_type": "code",
   "execution_count": 55,
   "id": "7f936053-476d-48bd-8345-8c190bfa27b4",
   "metadata": {},
   "outputs": [
    {
     "name": "stdout",
     "output_type": "stream",
     "text": [
      "[1, False, 'true!', 0.23343]\n"
     ]
    }
   ],
   "source": [
    "mixed_list = [1, False, \"true!\", 0.23343]\n",
    "print(mixed_list)"
   ]
  },
  {
   "cell_type": "code",
   "execution_count": 56,
   "id": "c1e99e3e-3016-4329-992a-c9437d78efdf",
   "metadata": {},
   "outputs": [
    {
     "name": "stdout",
     "output_type": "stream",
     "text": [
      "[[1, 2, 3, 4, 5], [1, False, 'true!', 0.23343]]\n"
     ]
    }
   ],
   "source": [
    "list_of_lists = [integer_list, mixed_list]\n",
    "print(list_of_lists)"
   ]
  },
  {
   "cell_type": "markdown",
   "id": "109f0fa8-68c0-401d-b7c0-cd00d1f7062f",
   "metadata": {},
   "source": [
    "## Lenght, access elements, find elements"
   ]
  },
  {
   "cell_type": "code",
   "execution_count": 57,
   "id": "74f8c6f7-a221-444a-9146-b8972ede2db7",
   "metadata": {},
   "outputs": [
    {
     "name": "stdout",
     "output_type": "stream",
     "text": [
      "5\n",
      "15\n"
     ]
    }
   ],
   "source": [
    "# get the list lenght\n",
    "print(len(integer_list)) #5\n",
    "# add all elements\n",
    "print(sum(integer_list)) #15"
   ]
  },
  {
   "cell_type": "code",
   "execution_count": 58,
   "id": "ae02e3a2-2f60-4946-8303-3ac8c1e0adbd",
   "metadata": {},
   "outputs": [
    {
     "name": "stdout",
     "output_type": "stream",
     "text": [
      "1\n",
      "[0, 2, 3, 4, 5]\n"
     ]
    }
   ],
   "source": [
    "# access the zero element\n",
    "zero_element = integer_list[0]\n",
    "print(zero_element)\n",
    "# change the zero elements\n",
    "integer_list[0] = 0\n",
    "print(integer_list)"
   ]
  },
  {
   "cell_type": "code",
   "execution_count": 59,
   "id": "f3765d56-83ff-4fc9-9533-1a0672777aea",
   "metadata": {},
   "outputs": [
    {
     "name": "stdout",
     "output_type": "stream",
     "text": [
      "[0, 2, 3]\n",
      "[2, 3, 4]\n"
     ]
    }
   ],
   "source": [
    "# slicing with square brackets\n",
    "new_list = integer_list[:3] #includes elements with index 0 to 2 NOT including index 3!!!\n",
    "print(new_list)\n",
    "other_list = integer_list[1:4] #includes elements with index 1 to 3 NOT including index 4!!\n",
    "print(other_list)"
   ]
  },
  {
   "cell_type": "code",
   "execution_count": 60,
   "id": "1267d8da-b309-4ec3-ade6-2a094ce30cf3",
   "metadata": {},
   "outputs": [
    {
     "name": "stdout",
     "output_type": "stream",
     "text": [
      "True\n",
      "False\n"
     ]
    }
   ],
   "source": [
    "# check if element is in the list\n",
    "print(0 in integer_list) # True\n",
    "print(99 in integer_list) # False"
   ]
  },
  {
   "cell_type": "markdown",
   "id": "7025ea3f-57f3-4911-8c4f-54c82e7db636",
   "metadata": {},
   "source": [
    "## Concatenate, append, unpack"
   ]
  },
  {
   "cell_type": "code",
   "execution_count": 61,
   "id": "18a60a96-434a-4828-a197-43695641d79a",
   "metadata": {},
   "outputs": [
    {
     "name": "stdout",
     "output_type": "stream",
     "text": [
      "[1, 2, 3]\n",
      "[1, 2, 3, 4, 5, 6]\n"
     ]
    }
   ],
   "source": [
    "# Concatenate with extend()\n",
    "x = [1,2,3]\n",
    "print(x)\n",
    "y = [4,5,6]\n",
    "x.extend(y)\n",
    "print(x)"
   ]
  },
  {
   "cell_type": "code",
   "execution_count": 62,
   "id": "3a249e1a-0868-47ab-bd7b-e9eff60d805b",
   "metadata": {},
   "outputs": [
    {
     "name": "stdout",
     "output_type": "stream",
     "text": [
      "[1, 2, 3, 4, 5, 6, 0]\n"
     ]
    }
   ],
   "source": [
    "x.append(0)\n",
    "print(x)"
   ]
  },
  {
   "cell_type": "code",
   "execution_count": 63,
   "id": "0004fb7a-0409-4038-a5f2-e3b62c3826d6",
   "metadata": {},
   "outputs": [
    {
     "name": "stdout",
     "output_type": "stream",
     "text": [
      "1 2\n"
     ]
    }
   ],
   "source": [
    "# unpack list to variables if you know how many values it contains\n",
    "two_values_list = [1,2]\n",
    "x, y = two_values_list\n",
    "print(x, y)"
   ]
  }
 ],
 "metadata": {
  "kernelspec": {
   "display_name": "Python 3 (ipykernel)",
   "language": "python",
   "name": "python3"
  },
  "language_info": {
   "codemirror_mode": {
    "name": "ipython",
    "version": 3
   },
   "file_extension": ".py",
   "mimetype": "text/x-python",
   "name": "python",
   "nbconvert_exporter": "python",
   "pygments_lexer": "ipython3",
   "version": "3.10.12"
  }
 },
 "nbformat": 4,
 "nbformat_minor": 5
}

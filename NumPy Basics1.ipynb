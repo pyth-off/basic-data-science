{
 "cells": [
  {
   "cell_type": "markdown",
   "id": "4db8624c",
   "metadata": {},
   "source": [
    "<!--TABLE OF CONTENTS-->\n",
    "Contents:\n",
    "- [Numpy Basics](#Numpy-Basics)\n",
    "  - [Highlights](#Highlights)\n",
    "    - [ndarray](#ndarray)\n",
    "      - [Shape and dtype](#Shape-and-dtype)\n",
    "      - [Array creation](#Array-creation)\n",
    "      - [Data Types](#Data-Types)\n",
    "        - [Character Codes for Data Types](#Character-Codes-for-Data-Types)\n",
    "      - [Arithmetic](#Arithmetic)\n",
    "      - [Boolean Indexing](#Boolean-Indexing)\n",
    "      - [Fancy Indexing](#Fancy-Indexing)"
   ]
  },
  {
   "cell_type": "markdown",
   "id": "db85d5b0-425b-4280-b233-72c3fca00245",
   "metadata": {},
   "source": [
    "# Numpy Basics 1"
   ]
  },
  {
   "cell_type": "markdown",
   "id": "efe94b92-0719-4a36-b40c-504d08387ec2",
   "metadata": {},
   "source": [
    "## Highlights\n",
    "\n",
    "- ndarray: efficient multidimensional array providing fast array-oriented arithmetic operations and flexible broadcasting capabilities.\n",
    "- Mathematical operations applied to entire arrays without having to write loops.\n",
    "- Tools for readding / writing array data to disk and working with memory-maped files."
   ]
  },
  {
   "cell_type": "code",
   "execution_count": 3,
   "id": "828ac506-c37c-4ad7-a75e-759012c2788d",
   "metadata": {},
   "outputs": [
    {
     "name": "stdout",
     "output_type": "stream",
     "text": [
      "2.26 ms ± 121 µs per loop (mean ± std. dev. of 7 runs, 100 loops each)\n",
      "87.2 ms ± 419 µs per loop (mean ± std. dev. of 7 runs, 10 loops each)\n"
     ]
    }
   ],
   "source": [
    "import numpy as np\n",
    "\n",
    "# a little helper\n",
    "def print_n(*args):\n",
    "    print('\\n')\n",
    "    print(args)\n",
    "    \n",
    "# Fast demo\n",
    "my_arr = np.arange(1_000_000)\n",
    "my_list = list(range(1_000_000))\n",
    "\n",
    "# Check execution time\n",
    "%timeit my_list2 = my_arr * 2 # 2.1 ms ± 50.3 µs per loop (mean ± std. dev. of 7 runs, 100 loops each)\n",
    "%timeit my_list2 = [x * 2 for x in my_list] # 87.2 ms ± 611 µs per loop (mean ± std. dev. of 7 runs, 10 loops each)\n"
   ]
  },
  {
   "cell_type": "markdown",
   "id": "299f3631-3166-4962-881e-7d062a375625",
   "metadata": {},
   "source": [
    "### ndarray\n",
    "\n",
    "An `ndarray` in NumPy (short for \"N-dimensional array\") is a powerful and versatile data structure that is used for efficient storage and manipulation of large arrays and matrices of numerical data. Here are its key features:\n",
    "\n",
    "1. **N-Dimensional**: `ndarray` can have any number of dimensions (e.g., 1D, 2D, 3D, etc.), making it flexible for various types of data representations.\n",
    "\n",
    "2. **Homogeneous Data Type**: All elements in an `ndarray` are of the same data type, ensuring efficient memory usage and performance.\n",
    "\n",
    "3. **Shape and Size**: The shape of an `ndarray` is a tuple that specifies the size of the array along each dimension. The size is the total number of elements in the array.\n",
    "\n",
    "4. **Indexing and Slicing**: NumPy provides powerful indexing and slicing capabilities, allowing for efficient access and manipulation of array subsets.\n",
    "\n",
    "5. **Broadcasting**: NumPy supports broadcasting, a mechanism that allows arithmetic operations on arrays of different shapes in a way that would not be possible otherwise.\n",
    "\n",
    "6. **Vectorized Operations**: Arithmetic operations and mathematical functions in NumPy are optimized to work on entire arrays, providing significant performance improvements over standard Python loops.\n",
    "\n",
    "7. **Memory Efficiency**: `ndarray` is designed for efficient memory use, often consuming less memory than equivalent Python lists due to its fixed data type and contiguous memory layout.\n",
    "\n",
    "8. **Integration with Other Libraries**: NumPy's `ndarray` serves as the foundation for many other scientific computing libraries in Python, such as SciPy, Pandas, and scikit-learn.\n",
    "    "
   ]
  },
  {
   "cell_type": "code",
   "execution_count": 4,
   "id": "b726b9ad-6dd3-423a-ab9c-d5ea048a7a50",
   "metadata": {},
   "outputs": [
    {
     "name": "stdout",
     "output_type": "stream",
     "text": [
      "\n",
      "\n",
      "(array([[ 1.5, -0.1,  3. ],\n",
      "       [ 0. , -3. ,  6.5]]),)\n",
      "\n",
      "\n",
      "(array([[ 15.,  -1.,  30.],\n",
      "       [  0., -30.,  65.]]),)\n",
      "\n",
      "\n",
      "(array([[ 3. , -0.2,  6. ],\n",
      "       [ 0. , -6. , 13. ]]),)\n"
     ]
    }
   ],
   "source": [
    "data = np.array([[1.5,-0.1,3], [0,-3,6.5]])\n",
    "print_n(data)\n",
    "print_n(data*10)\n",
    "print_n(data+data)"
   ]
  },
  {
   "cell_type": "markdown",
   "id": "fa524dc3-665f-4200-baa1-7a9bc1ea2a17",
   "metadata": {},
   "source": [
    "#### Shape and dtype"
   ]
  },
  {
   "cell_type": "code",
   "execution_count": 5,
   "id": "6e25d8ed-3081-4f4f-b4d1-4687eb36d5aa",
   "metadata": {},
   "outputs": [
    {
     "name": "stdout",
     "output_type": "stream",
     "text": [
      "\n",
      "\n",
      "((2, 3),)\n",
      "\n",
      "\n",
      "(dtype('float64'),)\n"
     ]
    }
   ],
   "source": [
    "print_n(data.shape)\n",
    "print_n(data.dtype)"
   ]
  },
  {
   "cell_type": "markdown",
   "id": "3fc0f632-0f54-4075-ad69-a05c9990270c",
   "metadata": {},
   "source": [
    "#### Array creation"
   ]
  },
  {
   "cell_type": "code",
   "execution_count": 6,
   "id": "5cbc13e7-1865-44c7-8c6d-bf6e685295c2",
   "metadata": {},
   "outputs": [
    {
     "name": "stdout",
     "output_type": "stream",
     "text": [
      "\n",
      "\n",
      "(array([6. , 7.5, 8. , 0. , 1. ]),)\n"
     ]
    }
   ],
   "source": [
    "data1 = [6, 7.5, 8, 0, 1]\n",
    "arr1 = np.array(data1)\n",
    "print_n(arr1)"
   ]
  },
  {
   "cell_type": "code",
   "execution_count": 7,
   "id": "9bf80667-3bb0-4206-99c5-414f4a964aa5",
   "metadata": {},
   "outputs": [
    {
     "name": "stdout",
     "output_type": "stream",
     "text": [
      "\n",
      "\n",
      "(2,)\n",
      "\n",
      "\n",
      "((2, 4),)\n"
     ]
    }
   ],
   "source": [
    "data2 = [[1,3,5,7],[2,4,6,8]]\n",
    "arr2 = np.array(data2)\n",
    "\n",
    "# inferr dimensions\n",
    "print_n(arr2.ndim)\n",
    "# shape\n",
    "print_n(arr2.shape)"
   ]
  },
  {
   "cell_type": "code",
   "execution_count": 8,
   "id": "e19086a9-7bba-4535-83d7-2c79c2d433b5",
   "metadata": {},
   "outputs": [
    {
     "name": "stdout",
     "output_type": "stream",
     "text": [
      "\n",
      "\n",
      "(array([0., 0., 0., 0., 0., 0., 0., 0., 0., 0.]),)\n",
      "\n",
      "\n",
      "(array([[0., 0., 0., 0.],\n",
      "       [0., 0., 0., 0.],\n",
      "       [0., 0., 0., 0.]]),)\n"
     ]
    }
   ],
   "source": [
    "print_n(np.zeros(10))\n",
    "print_n(np.zeros((3,4)))"
   ]
  },
  {
   "cell_type": "code",
   "execution_count": 9,
   "id": "4a89f321-874f-43ca-95bc-2253db203290",
   "metadata": {},
   "outputs": [
    {
     "name": "stdout",
     "output_type": "stream",
     "text": [
      "\n",
      "\n",
      "(array([1., 1., 1., 1., 1.]),)\n",
      "\n",
      "\n",
      "(array([[1., 1., 1., 1., 1.],\n",
      "       [1., 1., 1., 1., 1.],\n",
      "       [1., 1., 1., 1., 1.],\n",
      "       [1., 1., 1., 1., 1.],\n",
      "       [1., 1., 1., 1., 1.]]),)\n"
     ]
    }
   ],
   "source": [
    "print_n(np.ones(5))\n",
    "print_n(np.ones((5,5)))"
   ]
  },
  {
   "cell_type": "code",
   "execution_count": 10,
   "id": "36604933-191c-4154-aa92-dd369982b84c",
   "metadata": {},
   "outputs": [
    {
     "name": "stdout",
     "output_type": "stream",
     "text": [
      "\n",
      "\n",
      "(array([5.33503207e-310, 0.00000000e+000, 0.00000000e+000, 0.00000000e+000,\n",
      "       0.00000000e+000, 0.00000000e+000, 0.00000000e+000, 0.00000000e+000]),)\n",
      "\n",
      "\n",
      "(array([[0., 0., 0., 0., 0.],\n",
      "       [0., 0., 0., 0., 0.]]),)\n"
     ]
    }
   ],
   "source": [
    "# garbage filled, C style\n",
    "print_n(np.empty(8))\n",
    "print_n(np.empty((2,5)))"
   ]
  },
  {
   "cell_type": "markdown",
   "id": "9f982d71-4a58-450b-81b6-c041f04c3595",
   "metadata": {},
   "source": [
    "Some important array creation functions:\n",
    "\n",
    "   - `numpy.array(object)`: Converts a list, tuple, or other array-like objects into a NumPy array.\n",
    "   - `numpy.asarray(object)`: Similar to `array`, but does not copy the data if the input is already a NumPy array.\n",
    "\n",
    "   - `numpy.zeros(shape)`: Creates an array filled with zeros. `shape` can be a tuple specifying the dimensions.\n",
    "   - `numpy.ones(shape)`: Creates an array filled with ones.\n",
    "   - `numpy.full(shape, fill_value)`: Creates an array filled with a specified value.\n",
    "\n",
    "   - `numpy.eye(N)`: Creates a 2D identity matrix with ones on the diagonal and zeros elsewhere.\n",
    "   - `numpy.identity(n)`: Creates an identity matrix of size `n x n`.\n",
    "   - `numpy.diag(v)`: Creates a 2D array with the elements of `v` on the diagonal and zeros elsewhere.\n",
    "\n",
    "   - `numpy.arange(start, stop, step)`: Creates an array with evenly spaced values within a given range.\n",
    "   - `numpy.linspace(start, stop, num)`: Creates an array with `num` evenly spaced values between `start` and `stop`.\n",
    "   - `numpy.logspace(start, stop, num)`: Creates an array with `num` logarithmically spaced values between `10^start` and `10^stop`.\n",
    "\n",
    "   - `numpy.random.rand(d0, d1, ..., dn)`: Creates an array of the given shape and populates it with random samples from a uniform distribution over [0, 1).\n",
    "   - `numpy.random.randn(d0, d1, ..., dn)`: Creates an array of the given shape and populates it with random samples from a standard normal distribution.\n",
    "   - `numpy.random.randint(low, high, size)`: Creates an array of random integers from `low` (inclusive) to `high` (exclusive).\n",
    "\n",
    "   - `numpy.empty(shape)`: Creates an array without initializing the entries.\n",
    "   - `numpy.empty_like(prototype)`: Creates an array with the same shape and type as a given array, without initializing the entries.\n",
    "\n",
    "   - `numpy.zeros_like(prototype)`: Creates an array of zeros with the same shape and type as a given array.\n",
    "   - `numpy.ones_like(prototype)`: Creates an array of ones with the same shape and type as a given array.\n",
    "   - `numpy.full_like(prototype, fill_value)`: Creates an array with the same shape and type as a given array, filled with a specified value."
   ]
  },
  {
   "cell_type": "markdown",
   "id": "3b7a725e-37e9-437e-9b42-d7408c5aa467",
   "metadata": {},
   "source": [
    "#### Data Types"
   ]
  },
  {
   "cell_type": "code",
   "execution_count": 11,
   "id": "989e7f0f-e193-49b3-97eb-79d6ceed254f",
   "metadata": {},
   "outputs": [
    {
     "name": "stdout",
     "output_type": "stream",
     "text": [
      "\n",
      "\n",
      "(dtype('float64'),)\n",
      "\n",
      "\n",
      "(dtype('int32'),)\n"
     ]
    }
   ],
   "source": [
    "arr1 = np.array([1,2,3], dtype=np.float64)\n",
    "print_n(arr1.dtype)\n",
    "arr2 = np.array([1,2,3], dtype=np.int32)\n",
    "print_n(arr2.dtype)"
   ]
  },
  {
   "cell_type": "markdown",
   "id": "72cc179b-4aea-4ce7-8ffe-3c2986e4e331",
   "metadata": {},
   "source": [
    "NumPy provides a wide range of data types to accommodate different kinds of numerical and non-numerical data. Here are the main NumPy data types:\n",
    "\n",
    "- `bool_`: Boolean (True or False) stored as a byte.\n",
    "\n",
    "- `int_`: Default integer type (equivalent to `int64` or `int32` depending on the platform).\n",
    "- `int8`: 8-bit (1 byte) signed integer.\n",
    "- `int16`: 16-bit (2 bytes) signed integer.\n",
    "- `int32`: 32-bit (4 bytes) signed integer.\n",
    "- `int64`: 64-bit (8 bytes) signed integer.\n",
    "- `uint8`: 8-bit (1 byte) unsigned integer.\n",
    "- `uint16`: 16-bit (2 bytes) unsigned integer.\n",
    "- `uint32`: 32-bit (4 bytes) unsigned integer.\n",
    "- `uint64`: 64-bit (8 bytes) unsigned integer.\n",
    "\n",
    "- `float_`: Default floating-point type (equivalent to `float64`).\n",
    "- `float16`: Half precision floating-point (16 bits).\n",
    "- `float32`: Single precision floating-point (32 bits).\n",
    "- `float64`: Double precision floating-point (64 bits).\n",
    "\n",
    "- `complex_`: Default complex type (equivalent to `complex128`).\n",
    "- `complex64`: Complex number represented by two 32-bit floats (real and imaginary parts).\n",
    "- `complex128`: Complex number represented by two 64-bit floats (real and imaginary parts).\n",
    "\n",
    "- `str_`: Fixed-length string type.\n",
    "- `unicode_`: Fixed-length Unicode type.\n",
    "\n",
    "- `bytes_`: Fixed-length byte type.\n",
    "\n",
    "- `object_`: Python object type.\n",
    "\n",
    "- `datetime64`: Date and time with various units (e.g., `ns`, `us`, `ms`, `s`, `m`, `h`, `D`, `W`, `M`, `Y`).\n",
    "- `timedelta64`: Differences between two `datetime64` objects with various units.\n",
    "\n",
    "- `void`: Type for data of unknown size or shape, often used in record arrays.\n",
    "\n",
    "- `int`: Same as `int_` (platform-dependent).\n",
    "- `float`: Same as `float_`.\n",
    "- `complex`: Same as `complex_`.\n",
    "\n",
    "##### Character Codes for Data Types\n",
    "NumPy also supports character codes for specifying data types:\n",
    "- `'b'`: boolean.\n",
    "- `'i'`: (signed) integer.\n",
    "- `'u'`: unsigned integer.\n",
    "- `'f'`: floating-point.\n",
    "- `'c'`: complex floating-point.\n",
    "- `'m'`: timedelta.\n",
    "- `'M'`: datetime.\n",
    "- `'O'`: object.\n",
    "- `'S'`: (byte-)string.\n",
    "- `'U'`: Unicode.\n",
    "- `'V'`: void.\n",
    "\n",
    "These data types allow NumPy to efficiently handle a wide variety of numerical and other types of data, providing flexibility and performance for scientific computing."
   ]
  },
  {
   "cell_type": "code",
   "execution_count": 12,
   "id": "f71dab91-8795-40d5-a067-8bb12ed6f33e",
   "metadata": {},
   "outputs": [
    {
     "name": "stdout",
     "output_type": "stream",
     "text": [
      "\n",
      "\n",
      "(dtype('int64'),)\n",
      "\n",
      "\n",
      "(dtype('float64'),)\n"
     ]
    }
   ],
   "source": [
    "#### Casting\n",
    "arr = np.array([1,2,3,4,5])\n",
    "print_n(arr.dtype)\n",
    "float_arr = arr.astype(np.float64)\n",
    "print_n(float_arr.dtype)"
   ]
  },
  {
   "cell_type": "markdown",
   "id": "6b933131-fa41-49a4-90fb-d8acb58b6e2d",
   "metadata": {},
   "source": [
    "#### Arithmetic"
   ]
  },
  {
   "cell_type": "code",
   "execution_count": 13,
   "id": "7ef7b022-a8fb-4d62-b06f-f679ac71bdaa",
   "metadata": {},
   "outputs": [
    {
     "name": "stdout",
     "output_type": "stream",
     "text": [
      "\n",
      "\n",
      "(array([[1, 3, 5],\n",
      "       [2, 4, 6]]),)\n",
      "\n",
      "\n",
      "(array([[ 1,  9, 25],\n",
      "       [ 4, 16, 36]]),)\n",
      "\n",
      "\n",
      "(array([[0, 0, 0],\n",
      "       [0, 0, 0]]),)\n",
      "\n",
      "\n",
      "(array([[ 2,  6, 10],\n",
      "       [ 4,  8, 12]]),)\n",
      "\n",
      "\n",
      "(array([[0.4, 1.2, 2. ],\n",
      "       [0.8, 1.6, 2.4]]),)\n",
      "\n",
      "\n",
      "(array([[1.        , 0.33333333, 0.2       ],\n",
      "       [0.5       , 0.25      , 0.16666667]]),)\n",
      "\n",
      "\n",
      "(array([[  1,  27, 125],\n",
      "       [  8,  64, 216]]),)\n",
      "\n",
      "\n",
      "(array([[ True,  True,  True],\n",
      "       [ True,  True,  True]]),)\n"
     ]
    }
   ],
   "source": [
    "# Vectorizations are batch operations over arrays without the need to write loops\n",
    "arr = np.array([[1,3,5],[2,4,6]])\n",
    "print_n(arr)\n",
    "print_n(arr*arr)\n",
    "print_n(arr-arr)\n",
    "print_n(arr+arr)\n",
    "print_n(arr/2.5)\n",
    "print_n(1/arr)\n",
    "print_n(arr**3)\n",
    "arr2 = np.array([[10,12,14],[11,13,15]])\n",
    "print_n(arr2 > arr)\n"
   ]
  },
  {
   "cell_type": "code",
   "execution_count": 14,
   "id": "f36602fa-9d59-40e9-a6e2-702a82772fab",
   "metadata": {},
   "outputs": [],
   "source": [
    "#### Basic Indexing and Slicing"
   ]
  },
  {
   "cell_type": "code",
   "execution_count": 15,
   "id": "01e716b2-ed90-4b6a-97ca-bcffbfe314fe",
   "metadata": {},
   "outputs": [
    {
     "name": "stdout",
     "output_type": "stream",
     "text": [
      "\n",
      "\n",
      "(array([0, 1, 2, 3, 4, 5, 6, 7, 8, 9]),)\n",
      "\n",
      "\n",
      "(3,)\n",
      "\n",
      "\n",
      "(array([0, 1, 2, 3, 4]),)\n",
      "\n",
      "\n",
      "(array([2, 3, 4, 5, 6]),)\n",
      "\n",
      "\n",
      "(array([ 0,  1, 99, 99, 99, 99, 99,  7,  8,  9]),)\n",
      "\n",
      "\n",
      "(array([99, 99]),)\n",
      "\n",
      "\n",
      "(array([77, 77]),)\n"
     ]
    }
   ],
   "source": [
    "arr = np.arange(10)\n",
    "print_n(arr)\n",
    "print_n(arr[3])\n",
    "print_n(arr[:5])\n",
    "print_n(arr[2:7])\n",
    "# Unless python std lists, np array ARE mutable\n",
    "arr[2:7] = 99\n",
    "print_n(arr)\n",
    "\n",
    "# Unless python std lists, np array ARE mutable\n",
    "arr_slice = arr[2:4]\n",
    "print_n(arr_slice)\n",
    "arr_slice[:] = 77\n",
    "print_n(arr_slice)"
   ]
  },
  {
   "cell_type": "code",
   "execution_count": 16,
   "id": "2ffd0208-30a0-426d-8a20-0fecca1a885d",
   "metadata": {},
   "outputs": [
    {
     "name": "stdout",
     "output_type": "stream",
     "text": [
      "\n",
      "\n",
      "(array([2, 4, 6]),)\n",
      "\n",
      "\n",
      "(3,)\n",
      "\n",
      "\n",
      "(3,)\n",
      "\n",
      "\n",
      "(array([[1, 3, 5],\n",
      "       [2, 4, 6]]),)\n",
      "\n",
      "\n",
      "(array([1, 3, 5]),)\n",
      "\n",
      "\n",
      "(3,)\n"
     ]
    }
   ],
   "source": [
    "arr2d = np.array([[1,3,5],[2,4,6]])\n",
    "print_n(arr2d[1])\n",
    "# These are equivalent\n",
    "print_n(arr2d[0][1])\n",
    "print_n(arr2d[0,1])\n",
    "\n",
    "new_arr = arr2d.copy()\n",
    "print_n(new_arr)\n",
    "# or slice it\n",
    "new_arr = arr2d[0].copy()\n",
    "print_n(new_arr)\n",
    "\n",
    "new_arr = arr2d[0,1].copy()\n",
    "print_n(new_arr)"
   ]
  },
  {
   "cell_type": "code",
   "execution_count": 17,
   "id": "f36a58bc-a9de-497f-9507-b03ce0774520",
   "metadata": {},
   "outputs": [
    {
     "name": "stdout",
     "output_type": "stream",
     "text": [
      "\n",
      "\n",
      "(array([9, 9, 9]),)\n",
      "\n",
      "\n",
      "(array([[2, 4, 6],\n",
      "       [9, 9, 9]]),)\n",
      "\n",
      "\n",
      "(array([[5]]),)\n"
     ]
    }
   ],
   "source": [
    "arr = np.array([[1,3,5],[2,4,6],[9,9,9]])\n",
    "print_n(arr[2])\n",
    "print_n(arr[1:])\n",
    "# or a combination\n",
    "print_n(arr[:1, 2:])\n"
   ]
  },
  {
   "cell_type": "markdown",
   "id": "ad2b646b-b860-4276-903e-ad91ac524946",
   "metadata": {},
   "source": [
    "!(Slicing)[img/slicing.jpeg]"
   ]
  },
  {
   "cell_type": "markdown",
   "id": "917d75ab-ef89-46fc-93c6-c5fbf3017b36",
   "metadata": {},
   "source": [
    "#### Boolean Indexing"
   ]
  },
  {
   "cell_type": "code",
   "execution_count": 18,
   "id": "b3711742-598d-4431-88dd-78bccc102851",
   "metadata": {},
   "outputs": [
    {
     "name": "stdout",
     "output_type": "stream",
     "text": [
      "\n",
      "\n",
      "(array(['Alice', 'Bob', 'Carl', 'Dora', 'Alice', 'Bob'], dtype='<U5'), array([[ 20,  80],\n",
      "       [ 15,  55],\n",
      "       [ 90,  60],\n",
      "       [ 35, 120],\n",
      "       [  5,  30],\n",
      "       [  1,   8]]))\n",
      "\n",
      "\n",
      "(array([False,  True, False, False, False,  True]),)\n",
      "\n",
      "\n",
      "(array([[15, 55],\n",
      "       [ 1,  8]]),)\n",
      "\n",
      "\n",
      "(array([[ 20,  80],\n",
      "       [ 90,  60],\n",
      "       [ 35, 120],\n",
      "       [  5,  30]]),)\n",
      "\n",
      "\n",
      "(array([[ 20,  80],\n",
      "       [ 90,  60],\n",
      "       [ 35, 120],\n",
      "       [  5,  30]]),)\n"
     ]
    }
   ],
   "source": [
    "names = np.array(['Alice', 'Bob', 'Carl', 'Dora','Alice', 'Bob',])\n",
    "age_weight = np.array([[20,80],[15,55],[90,60],[35,120],[5,30],[1,8]])\n",
    "print_n(names, age_weight)\n",
    "\n",
    "print_n(names == 'Bob')\n",
    "#Pass all ocurrences of 'Bob' to find age and weight\n",
    "print_n(age_weight[names == 'Bob'])\n",
    "\n",
    "print_n(age_weight[names != 'Bob'])\n",
    "# same thing\n",
    "print_n(age_weight[~(names == 'Bob')])"
   ]
  },
  {
   "cell_type": "code",
   "execution_count": 19,
   "id": "ebe819fd-b28e-4a2b-988b-ae6734db12d7",
   "metadata": {},
   "outputs": [
    {
     "name": "stdout",
     "output_type": "stream",
     "text": [
      "\n",
      "\n",
      "(array([[20, 80],\n",
      "       [15, 55],\n",
      "       [ 5, 30],\n",
      "       [ 1,  8]]),)\n",
      "\n",
      "\n",
      "(array([], shape=(0, 2), dtype=int64),)\n"
     ]
    }
   ],
   "source": [
    "mask = (names=='Bob') | (names=='Alice')\n",
    "print_n(age_weight[mask])\n",
    "\n",
    "mask = (names=='Bob') & (names=='Carl')\n",
    "print_n(age_weight[mask])\n"
   ]
  },
  {
   "cell_type": "markdown",
   "id": "fa9f80d3-2989-445c-9817-b2275bc6abdc",
   "metadata": {},
   "source": [
    "#### Fancy Indexing"
   ]
  },
  {
   "cell_type": "code",
   "execution_count": 20,
   "id": "b1508540-4e30-4611-a90e-c88113b28eb4",
   "metadata": {},
   "outputs": [
    {
     "name": "stdout",
     "output_type": "stream",
     "text": [
      "\n",
      "\n",
      "(array([[0., 0., 0., 0.],\n",
      "       [1., 1., 1., 1.],\n",
      "       [2., 2., 2., 2.],\n",
      "       [3., 3., 3., 3.],\n",
      "       [4., 4., 4., 4.],\n",
      "       [5., 5., 5., 5.],\n",
      "       [6., 6., 6., 6.],\n",
      "       [7., 7., 7., 7.]]),)\n",
      "\n",
      "\n",
      "(array([[2., 2., 2., 2.],\n",
      "       [4., 4., 4., 4.],\n",
      "       [6., 6., 6., 6.]]),)\n"
     ]
    }
   ],
   "source": [
    "arr = np.zeros((8,4))\n",
    "\n",
    "for i in range(8):\n",
    "    arr[i] = i\n",
    "\n",
    "print_n(arr)\n",
    "\n",
    "# Select elements by passing the desired order\n",
    "print_n(arr[[2,4,6]])"
   ]
  }
 ],
 "metadata": {
  "kernelspec": {
   "display_name": "Python 3 (ipykernel)",
   "language": "python",
   "name": "python3"
  },
  "language_info": {
   "codemirror_mode": {
    "name": "ipython",
    "version": 3
   },
   "file_extension": ".py",
   "mimetype": "text/x-python",
   "name": "python",
   "nbconvert_exporter": "python",
   "pygments_lexer": "ipython3",
   "version": "3.10.12"
  }
 },
 "nbformat": 4,
 "nbformat_minor": 5
}

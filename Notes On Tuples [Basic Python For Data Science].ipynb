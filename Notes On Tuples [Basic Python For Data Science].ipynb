{
 "cells": [
  {
   "cell_type": "markdown",
   "id": "dadc64f6-d982-4662-ae68-99b995613050",
   "metadata": {},
   "source": [
    "# Notes On Tuples [Basic Python For Data Science]"
   ]
  },
  {
   "cell_type": "markdown",
   "id": "e75cad8d-f743-4542-8496-1d18da5797b2",
   "metadata": {},
   "source": [
    "## Tuples\n",
    "\n",
    "1. Used to store multiple items in a single variable.\n",
    "2. One of 4 built-in data types in Python used to store collections of data, the other 3 are List, Set, and Dictionary, all with different qualities and usage.\n",
    "3. Is a collection which is *ordered* and *unchangeable*.\n",
    "4. Are declared with round brackets.\n",
    "5. Items are ordered, unchangeable, and allow duplicate values.\n",
    "6. Indexed, the first item has index [0].\n",
    "7. Allow for *duplicated values*."
   ]
  },
  {
   "cell_type": "code",
   "execution_count": 33,
   "id": "948a5390-12fc-47fe-8b94-0e3259d9d665",
   "metadata": {},
   "outputs": [
    {
     "name": "stdout",
     "output_type": "stream",
     "text": [
      "(1, 2, 3)\n",
      "TypeError(\"'tuple' object does not support item assignment\")\n"
     ]
    }
   ],
   "source": [
    "my_tuple = (1,2,3)\n",
    "print(my_tuple)\n",
    "# cannot modify a tuple\n",
    "try:\n",
    "    my_tuple[1] = 666\n",
    "except TypeError as te:\n",
    "    print(repr(te)) # got it?"
   ]
  },
  {
   "cell_type": "code",
   "execution_count": 34,
   "id": "860e4004-2f5d-4d84-8177-f429491c2c56",
   "metadata": {},
   "outputs": [
    {
     "name": "stdout",
     "output_type": "stream",
     "text": [
      "(8, 9, 10)\n"
     ]
    }
   ],
   "source": [
    "# tuples are good for returning packed values from inside a function\n",
    "def return_multiple(x,y,z):\n",
    "    return (z,y,x)\n",
    "\n",
    "my_tuple = return_multiple(10,9,8)\n",
    "print(my_tuple)"
   ]
  },
  {
   "cell_type": "code",
   "execution_count": 35,
   "id": "6a5aa58d-660e-4737-ada6-81309982730f",
   "metadata": {},
   "outputs": [
    {
     "name": "stdout",
     "output_type": "stream",
     "text": [
      "3\n",
      "(3, 4)\n",
      "1 2 3 4 5\n"
     ]
    }
   ],
   "source": [
    "# tuples do almost everything as lists, except modification\n",
    "numbers = (1,2,3,4,5)\n",
    "print(numbers[2])\n",
    "print(numbers[2:4])\n",
    "\n",
    "# unpack tuple\n",
    "a,b,c,d,e = numbers\n",
    "print(a,b,c,d,e)\n"
   ]
  },
  {
   "cell_type": "code",
   "execution_count": 36,
   "id": "44eb4a5e-9875-4595-b431-f0c547b0a30b",
   "metadata": {},
   "outputs": [
    {
     "name": "stdout",
     "output_type": "stream",
     "text": [
      "apple\n",
      "banana\n",
      "cherry\n",
      "apple\n",
      "banana\n",
      "cherry\n",
      "('apple', 'banana', 'cherry', 'salad', 'carrot', 'cucumber')\n",
      "('apple', 'banana', 'cherry', 'apple', 'banana', 'cherry', 'apple', 'banana', 'cherry')\n"
     ]
    }
   ],
   "source": [
    "# looping\n",
    "fruits = (\"apple\", \"banana\", \"cherry\")\n",
    "for x in fruits:\n",
    "  print(x) \n",
    "\n",
    "# using indexes\n",
    "for i in range(len(fruits)):\n",
    "  print(fruits[i]) \n",
    "\n",
    "vegetables = (\"salad\",\"carrot\",\"cucumber\")\n",
    "\n",
    "# join tuples\n",
    "print(fruits+vegetables)\n",
    "\n",
    "# multiply\n",
    "print(fruits*3)"
   ]
  },
  {
   "cell_type": "markdown",
   "id": "4c739abb-1309-40bd-b1f9-5cb9c1bc9078",
   "metadata": {},
   "source": [
    "## Tuples methods"
   ]
  },
  {
   "cell_type": "code",
   "execution_count": 37,
   "id": "723a9f66-28d2-40f2-a185-e0bd73fb7b4c",
   "metadata": {},
   "outputs": [
    {
     "name": "stdout",
     "output_type": "stream",
     "text": [
      "1\n",
      "3\n"
     ]
    },
    {
     "ename": "ValueError",
     "evalue": "tuple.index(x): x not in tuple",
     "output_type": "error",
     "traceback": [
      "\u001b[0;31m---------------------------------------------------------------------------\u001b[0m",
      "\u001b[0;31mValueError\u001b[0m                                Traceback (most recent call last)",
      "Cell \u001b[0;32mIn[37], line 7\u001b[0m\n\u001b[1;32m      4\u001b[0m \u001b[38;5;66;03m# index() should be called indexOf() IMO\u001b[39;00m\n\u001b[1;32m      5\u001b[0m \u001b[38;5;28mprint\u001b[39m(letters\u001b[38;5;241m.\u001b[39mindex(\u001b[38;5;124m'\u001b[39m\u001b[38;5;124md\u001b[39m\u001b[38;5;124m'\u001b[39m))\n\u001b[0;32m----> 7\u001b[0m \u001b[38;5;28mprint\u001b[39m(\u001b[43mletters\u001b[49m\u001b[38;5;241;43m.\u001b[39;49m\u001b[43mindex\u001b[49m\u001b[43m(\u001b[49m\u001b[38;5;124;43m'\u001b[39;49m\u001b[38;5;124;43mx\u001b[39;49m\u001b[38;5;124;43m'\u001b[39;49m\u001b[43m)\u001b[49m) \u001b[38;5;66;03m# throws ValueError: tuple.index(x): x not in tuple\u001b[39;00m\n",
      "\u001b[0;31mValueError\u001b[0m: tuple.index(x): x not in tuple"
     ]
    }
   ],
   "source": [
    "letters = ('a','b','c','d','e')\n",
    "print(letters.count('c'))\n",
    "\n",
    "# index() should be called indexOf() IMO\n",
    "print(letters.index('d'))\n",
    "\n",
    "print(letters.index('x')) # throws ValueError: tuple.index(x): x not in tuple"
   ]
  },
  {
   "cell_type": "code",
   "execution_count": null,
   "id": "fd4da26c-7496-4a6c-9dc1-f61faec5ba23",
   "metadata": {},
   "outputs": [],
   "source": []
  }
 ],
 "metadata": {
  "kernelspec": {
   "display_name": "Python 3 (ipykernel)",
   "language": "python",
   "name": "python3"
  },
  "language_info": {
   "codemirror_mode": {
    "name": "ipython",
    "version": 3
   },
   "file_extension": ".py",
   "mimetype": "text/x-python",
   "name": "python",
   "nbconvert_exporter": "python",
   "pygments_lexer": "ipython3",
   "version": "3.10.12"
  }
 },
 "nbformat": 4,
 "nbformat_minor": 5
}

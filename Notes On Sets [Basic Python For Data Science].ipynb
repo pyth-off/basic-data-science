{
 "cells": [
  {
   "cell_type": "markdown",
   "id": "d6f1e6e8-d895-4279-bbe7-9e6d6a8cec0a",
   "metadata": {},
   "source": [
    "# Notes On Sets [Basic Python For Data Science]"
   ]
  },
  {
   "cell_type": "markdown",
   "id": "a0f2215b-d517-4852-a123-c46931c7481f",
   "metadata": {},
   "source": [
    "1. Sets are used to store multiple items in a single variable.\n",
    "2. Is a collection which is unordered, unchangeable*, and unindexed.\n",
    "3. Declared with curly brackets.\n",
    "4. Sets are unordered, unchangeable, and do not allow duplicate values.\n",
    "\n",
    "> Sets are typically used when you need to store a collection of distinct items and perform operations such as intersection, union, and difference."
   ]
  },
  {
   "cell_type": "code",
   "execution_count": 1,
   "id": "4488d1b1-bb07-4c9a-bed7-f1234f3b22e8",
   "metadata": {},
   "outputs": [
    {
     "name": "stdout",
     "output_type": "stream",
     "text": [
      "2\n",
      "True\n",
      "False\n"
     ]
    }
   ],
   "source": [
    "s = set()\n",
    "s.add(1)\n",
    "s.add('a')\n",
    "s.add(True)\n",
    "print(len(s))\n",
    "print(1 in s)\n",
    "print(False in s)\n"
   ]
  },
  {
   "cell_type": "code",
   "execution_count": 4,
   "id": "19856fdf-06df-48fc-896a-d4cd37863106",
   "metadata": {},
   "outputs": [
    {
     "name": "stdout",
     "output_type": "stream",
     "text": [
      "8\n",
      "[1, 2, 3, 'd', 'b', 'c', 'e', 'a']\n"
     ]
    }
   ],
   "source": [
    "# distinct operation\n",
    "one_list = [1,2,3,3,2,1,'a','b','c','d','e',3,2,'e','d','e','d','e',2,1,'a','b','c']\n",
    "# cast to set\n",
    "item_set = set(one_list)\n",
    "# size\n",
    "print(len(item_set))\n",
    "# distinct items\n",
    "print(list(item_set))"
   ]
  },
  {
   "cell_type": "code",
   "execution_count": null,
   "id": "6696194c-a2bb-4572-bb7d-bf54e129c185",
   "metadata": {},
   "outputs": [],
   "source": []
  }
 ],
 "metadata": {
  "kernelspec": {
   "display_name": "Python 3 (ipykernel)",
   "language": "python",
   "name": "python3"
  },
  "language_info": {
   "codemirror_mode": {
    "name": "ipython",
    "version": 3
   },
   "file_extension": ".py",
   "mimetype": "text/x-python",
   "name": "python",
   "nbconvert_exporter": "python",
   "pygments_lexer": "ipython3",
   "version": "3.10.12"
  }
 },
 "nbformat": 4,
 "nbformat_minor": 5
}

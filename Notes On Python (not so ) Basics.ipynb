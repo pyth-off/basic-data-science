{
 "cells": [
  {
   "cell_type": "markdown",
   "id": "db85d5b0-425b-4280-b233-72c3fca00245",
   "metadata": {},
   "source": [
    "# Python Notes"
   ]
  },
  {
   "cell_type": "markdown",
   "id": "35e5f335-36a9-49b2-8313-f4ec93fa8d21",
   "metadata": {},
   "source": [
    ">Comprehensive Python tutorials can be found anywhere in the Internet. This notebook contains only marginal notes, tips and tricks for beginner developers."
   ]
  },
  {
   "cell_type": "markdown",
   "id": "25a0d209",
   "metadata": {},
   "source": [
    "<!--TABLE OF CONTENTS-->\n",
    "Contents:\n",
    "- [Python Notes](#Python-Notes)\n",
    "  - [Arithmetic](#Arithmetic)\n",
    "  - [Booleans](#Booleans)\n",
    "  - [Sorting](#Sorting)\n",
    "  - [List Comprehensions](#List-Comprehensions)\n",
    "  - [Generators And Iterators](#Generators-And-Iterators)\n",
    "  - [Random()](#Random())\n",
    "  - [Arguments (un)packing](#Arguments-(un)packing)\n",
    "  - [Args and kwargs](#Args-and-kwargs)"
   ]
  },
  {
   "cell_type": "markdown",
   "id": "818496f6-1a72-4462-916f-bea88a08639a",
   "metadata": {},
   "source": [
    "## Arithmetic"
   ]
  },
  {
   "cell_type": "code",
   "execution_count": 5,
   "id": "70c837da-0340-497c-9a17-f2a648329b90",
   "metadata": {},
   "outputs": [
    {
     "name": "stdout",
     "output_type": "stream",
     "text": [
      "2.5\n",
      "2\n"
     ]
    }
   ],
   "source": [
    "# python uses integer division by default so \n",
    "print(5/2) # is 2,5\n",
    "print(5//2) # 2"
   ]
  },
  {
   "cell_type": "markdown",
   "id": "74d1d9a8-ce2d-4e78-b95b-3e362e2cf947",
   "metadata": {},
   "source": [
    "## Booleans"
   ]
  },
  {
   "cell_type": "code",
   "execution_count": 9,
   "id": "de81e6e1-bd2e-4fcc-b1d5-db4e49a91d25",
   "metadata": {},
   "outputs": [
    {
     "name": "stdout",
     "output_type": "stream",
     "text": [
      "True False None\n",
      "[False, 0, 0.0, None, [], {}, '', set()]\n"
     ]
    },
    {
     "data": {
      "text/plain": [
       "False"
      ]
     },
     "execution_count": 9,
     "metadata": {},
     "output_type": "execute_result"
    }
   ],
   "source": [
    "# work as in any other language but with T and F like\n",
    "a = True\n",
    "b = False\n",
    "# NUll is None\n",
    "c = None\n",
    "print(a,b,c)\n",
    "\n",
    "# All these are false\n",
    "false_list = [False, 0, 0.0, None, [], {}, \"\", set()]\n",
    "print(false_list)\n",
    "# Almost everything else is True\n",
    "\n",
    "# all() and any() check for True values in the list\n",
    "all(false_list)\n",
    "any(false_list)"
   ]
  },
  {
   "cell_type": "markdown",
   "id": "cf486532-d611-48d0-89bb-47da73069cc9",
   "metadata": {},
   "source": [
    "## Sorting"
   ]
  },
  {
   "cell_type": "code",
   "execution_count": 12,
   "id": "461c7e9c-7879-4241-850e-c0e97acdbf2d",
   "metadata": {},
   "outputs": [
    {
     "name": "stdout",
     "output_type": "stream",
     "text": [
      "[1, 5, 2, 3, 4] [1, 2, 3, 4, 5]\n",
      "[1, 2, 3, 4, 5]\n"
     ]
    }
   ],
   "source": [
    "# every list has a sort method\n",
    "l = [1,5,2,3,4]\n",
    "y = sorted(l) # leaves x unchanged\n",
    "print(l,y)\n",
    "l.sort()\n",
    "print(l)"
   ]
  },
  {
   "cell_type": "markdown",
   "id": "a37771d2-71e2-438b-93ef-80e12f53e983",
   "metadata": {},
   "source": [
    "## List Comprehensions"
   ]
  },
  {
   "cell_type": "code",
   "execution_count": 16,
   "id": "5e30150c-9f69-4fda-b91d-c0633c4d14e9",
   "metadata": {},
   "outputs": [
    {
     "name": "stdout",
     "output_type": "stream",
     "text": [
      "[0, 2, 4] [0, 1, 4, 9, 16] [0, 4, 16]\n"
     ]
    }
   ],
   "source": [
    "# Comprehension means turning a list into another list, completely or partially\n",
    "even_numbers = [x for x in range(5) if x % 2 == 0]\n",
    "squares = [x*x for x in range(5)]\n",
    "even_squares = [x*x for x in range(5) if x % 2 == 0]\n",
    "print(even_numbers, squares, even_squares)"
   ]
  },
  {
   "cell_type": "markdown",
   "id": "a2742a2a-5028-4449-9294-99de0fbbb110",
   "metadata": {},
   "source": [
    "## Generators And Iterators"
   ]
  },
  {
   "cell_type": "code",
   "execution_count": null,
   "id": "ae2bfeff-3193-4e32-8d7b-0e1ffed71c2f",
   "metadata": {},
   "outputs": [],
   "source": [
    "# generators can be iterators but produce their values only upon invokation\n",
    "def lazy_range(n):\n",
    "    i = o\n",
    "    while i < n:\n",
    "        yield i #value generated and returned only when the function is invoked\n",
    "        i += 1\n",
    "        "
   ]
  },
  {
   "cell_type": "markdown",
   "id": "d166f762-ffc7-4ee5-be88-4356c67b832f",
   "metadata": {},
   "source": [
    "## Random()"
   ]
  },
  {
   "cell_type": "code",
   "execution_count": 37,
   "id": "75c46298-f32c-46a9-acb6-6222a0c59665",
   "metadata": {},
   "outputs": [
    {
     "name": "stdout",
     "output_type": "stream",
     "text": [
      "[0.04455638245043303, 0.860161037286291, 0.603190610968185, 0.3816059859191179]\n",
      "0.5714025946899135\n",
      "0.5714025946899135\n",
      "[0, 1, 2, 3, 4, 5, 6, 7, 8, 9]\n",
      "[9, 8, 4, 2, 5, 3, 1, 0, 7, 6]\n",
      "9\n",
      "[0, 1, 2, 3, 4, 5, 6, 7, 8, 9, 10, 11, 12, 13, 14, 15, 16, 17, 18, 19]\n",
      "[16, 15, 10, 2, 7, 11, 5]\n",
      "[0, 2, 4, 6, 8, 10, 12, 14, 16, 18, 20, 22, 24, 26, 28, 30, 32, 34, 36, 38]\n",
      "<map object at 0x708e883d0cd0>\n",
      "[0, 2, 4, 6, 8, 10, 12, 14, 16, 18]\n",
      "<filter object at 0x708e73f698a0>\n",
      "0\n"
     ]
    }
   ],
   "source": [
    "import random\n",
    "\n",
    "four_uniform_randoms = [random.random() for _ in range(4)] # where \"_\" means that you do not want to use a variable\n",
    "print(four_uniform_randoms)\n",
    "\n",
    "# use random with a seed to produce deterministic results\n",
    "random.seed(10)\n",
    "print(random.random())\n",
    "\n",
    "random.seed(10)\n",
    "print(random.random())\n",
    "\n",
    "# randomize a list\n",
    "ten_values = [x for x in range(10)]\n",
    "print(ten_values)\n",
    "random.shuffle(ten_values)\n",
    "print(ten_values)\n",
    "\n",
    "# pick up a random element\n",
    "z = random.choice(ten_values)\n",
    "print(z)\n",
    "\n",
    "# get a random sample\n",
    "twenty_values = [x for x in range(20)]\n",
    "print(twenty_values)\n",
    "random_list = random.sample(twenty_values, 7)\n",
    "print(random_list)\n",
    "\n",
    "# map, filter\n",
    "\n",
    "def double(x):\n",
    "    return x * 2\n",
    "\n",
    "double_twenty_values = [double(x) for x in twenty_values]\n",
    "print(double_twenty_values)\n",
    "\n",
    "# or the same thing with map\n",
    "\n",
    "double_twenty_values = map(double, twenty_values)\n",
    "print(double_twenty_values)\n",
    "\n",
    "def is_even(x):\n",
    "    return x % 2 == 0\n",
    "    \n",
    "even = [x for x in twenty_values if is_even(x)]\n",
    "print(even)\n",
    "# or you can filter the list\n",
    "even = filter(is_even, twenty_values)\n",
    "print(even)\n"
   ]
  },
  {
   "cell_type": "markdown",
   "id": "9a5bbfe8-ba82-42bf-964c-bf5474be4696",
   "metadata": {},
   "source": [
    "## Arguments (un)packing"
   ]
  },
  {
   "cell_type": "code",
   "execution_count": 38,
   "id": "dc302fda-2d9b-4d3f-9348-4c644583fd94",
   "metadata": {},
   "outputs": [
    {
     "name": "stdout",
     "output_type": "stream",
     "text": [
      "<zip object at 0x708e882cbec0>\n"
     ]
    }
   ],
   "source": [
    "# zip transforms multiple lists into a single list of tuples of corresponding elements\n",
    "list1 = ['a', 'b', 'c']\n",
    "list2 = [1,2,3]\n",
    "z = zip(list1, list2) # (a,1), (b,2), (c,3)\n",
    "print(z)"
   ]
  },
  {
   "cell_type": "markdown",
   "id": "90ea7bf0-3261-42c7-9565-04c863d4a613",
   "metadata": {},
   "source": [
    "## Args and kwargs"
   ]
  },
  {
   "cell_type": "code",
   "execution_count": 39,
   "id": "607d90e4-a515-4334-8e59-4297bc8476e5",
   "metadata": {},
   "outputs": [
    {
     "name": "stdout",
     "output_type": "stream",
     "text": [
      "\n",
      "Unnamed args: (1, 2)\n",
      "\n",
      "Named args: {'key': 'word', 'key2': 'anotherWord'}\n"
     ]
    }
   ],
   "source": [
    "# basically, variable arguments\n",
    "\n",
    "def magic(*args, **kwargs):\n",
    "    print('\\nUnnamed args:', args)\n",
    "    print('\\nNamed args:', kwargs)\n",
    "\n",
    "magic(1,2,key='word', key2='anotherWord')\n",
    "\n",
    "    "
   ]
  }
 ],
 "metadata": {
  "kernelspec": {
   "display_name": "Python 3 (ipykernel)",
   "language": "python",
   "name": "python3"
  },
  "language_info": {
   "codemirror_mode": {
    "name": "ipython",
    "version": 3
   },
   "file_extension": ".py",
   "mimetype": "text/x-python",
   "name": "python",
   "nbconvert_exporter": "python",
   "pygments_lexer": "ipython3",
   "version": "3.10.12"
  }
 },
 "nbformat": 4,
 "nbformat_minor": 5
}

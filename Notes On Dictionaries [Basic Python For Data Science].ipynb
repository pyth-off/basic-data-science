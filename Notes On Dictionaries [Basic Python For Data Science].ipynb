{
 "cells": [
  {
   "cell_type": "markdown",
   "id": "32499873-bdd7-4846-aa18-11e80a85d728",
   "metadata": {},
   "source": [
    "# Notes On Dictionaries [Basic Python For Data Science]"
   ]
  },
  {
   "cell_type": "markdown",
   "id": "64d25fd5-2e28-484a-a4e7-d159f71b29dc",
   "metadata": {},
   "source": [
    "1. Dictionaries are used to store data values in key:value pairs.\n",
    "2. Is a collection which is ordered*, changeable and do not allow duplicates.\n",
    "3. Items are ordered, changeable, and do not allow duplicates.\n",
    "4. Items are presented in key:value pairs, and can be referred to by using the key name.\n",
    "\n",
    "> As of Python version 3.7, dictionaries are ordered. In Python 3.6 and earlier, dictionaries are unordered.\n"
   ]
  },
  {
   "cell_type": "code",
   "execution_count": 32,
   "id": "c92ca5cf-546a-4a48-9e4b-83191846049c",
   "metadata": {},
   "outputs": [
    {
     "name": "stdout",
     "output_type": "stream",
     "text": [
      "{'year': '1985', 'name': 'Off The Wall', 'artist': 'Michael J.'}\n",
      "Off The Wall\n",
      "KeyError('producer')\n",
      "True\n",
      "False\n",
      "{'year': '1985', 'name': 'Thriller', 'artist': 'Michael J.'}\n"
     ]
    }
   ],
   "source": [
    "# the python way\n",
    "album = {}\n",
    "# not so pythonic\n",
    "album = dict()\n",
    "# dictionary literal\n",
    "album = {\n",
    "    'year':'1985',\n",
    "    'name':'Off The Wall',\n",
    "    'artist':'Michael J.',\n",
    "}\n",
    "print(album)\n",
    "# find a key\n",
    "print(album['name'])\n",
    "\n",
    "# missing keys throws KeyError\n",
    "try:\n",
    "    producer = album['producer']\n",
    "except KeyError as e:\n",
    "    print(repr(e))\n",
    "\n",
    "# same as in lists\n",
    "print('name' in album) # True\n",
    "print('producer' in album) # False\n",
    "\n",
    "# overwrite values\n",
    "album['name'] = 'Thriller'\n",
    "print(album)"
   ]
  },
  {
   "cell_type": "markdown",
   "id": "b70afcc7-494f-4c97-acac-d5622133b849",
   "metadata": {},
   "source": [
    "## Find keys, values and items"
   ]
  },
  {
   "cell_type": "code",
   "execution_count": 33,
   "id": "239074ea-12d9-4308-8331-a7037897277f",
   "metadata": {},
   "outputs": [
    {
     "name": "stdout",
     "output_type": "stream",
     "text": [
      "dict_keys(['name', 'address', 'phone', 'city'])\n",
      "dict_values(['John Doe', 'Main, 123', '55554876', 'Springfield, IL'])\n",
      "dict_items([('name', 'John Doe'), ('address', 'Main, 123'), ('phone', '55554876'), ('city', 'Springfield, IL')])\n"
     ]
    }
   ],
   "source": [
    "customer = {\n",
    "    'name' : 'John Doe',\n",
    "    'address' : 'Main, 123',\n",
    "    'phone' : '55554876',\n",
    "    'city' : 'Springfield, IL',\n",
    "}\n",
    "print(customer.keys())\n",
    "print(customer.values())\n",
    "print(customer.items())"
   ]
  },
  {
   "cell_type": "markdown",
   "id": "d564254a-3190-4732-9e29-c542892f794d",
   "metadata": {},
   "source": [
    "### Counting words in a dicctionary and considering missing keys"
   ]
  },
  {
   "cell_type": "code",
   "execution_count": 34,
   "id": "8f60978a-ba14-4ded-a5e1-402c0d0676aa",
   "metadata": {},
   "outputs": [
    {
     "name": "stdout",
     "output_type": "stream",
     "text": [
      "{'lorem': 2, 'ipsum': 4, 'dolor': 1, 'sit': 1, 'amet': 1, 'consectetur': 1, 'adipiscing': 1, 'elit': 2, 'phasellus': 2, 'aliquet': 1, 'velit': 1, 'sed': 2, 'ornare': 1, 'vestibulum': 2, 'pellentesque': 4, 'in': 3, 'vehicula': 1, 'ligula': 1, 'varius': 1, 'pretium': 1, 'dictum': 1, 'etiam': 1, 'mollis': 1, 'at': 1, 'cursus': 1, 'nec': 1, 'felis': 2, 'volutpat': 1, 'convallis': 1, 'scelerisque': 2, 'fringilla': 2, 'odio': 1, 'quisque': 1, 'viverra': 1, 'leo': 1, 'id': 2, 'tempor': 1, 'aliquam': 1, 'quam': 1, 'risus': 1, 'ex': 2, 'quis': 1, 'enim': 1, 'vel': 2, 'mauris': 3, 'porta': 1, 'egestas': 1, 'sem': 2, 'lacinia': 2, 'lectus': 1, 'euismod': 1, 'ut': 1, 'donec': 1, 'congue': 2, 'et': 3, 'venenatis': 2, 'praesent': 1, 'gravida': 1, 'suscipit': 1, 'curabitur': 1, 'efficitur': 1, 'eros': 1, 'eleifend': 1, 'nunc': 1, 'non': 1, 'sollicitudin': 1, 'tempus': 1, 'luctus': 1, 'auctor': 1}\n"
     ]
    }
   ],
   "source": [
    "# The provided text\n",
    "text = \"\"\"\n",
    "Lorem ipsum dolor sit amet, consectetur adipiscing elit. Phasellus aliquet velit sed ornare vestibulum. Pellentesque in vehicula ligula. Phasellus varius pretium dictum. Etiam mollis at elit pellentesque cursus. In nec felis volutpat, convallis ipsum scelerisque, fringilla odio. Quisque viverra, leo id tempor aliquam, quam risus vestibulum ex, quis scelerisque enim felis vel mauris. Pellentesque porta egestas sem, id lacinia lectus euismod ut. Donec congue et sem in venenatis. Praesent gravida mauris et congue suscipit. Curabitur efficitur ipsum vel eros fringilla eleifend. Nunc non mauris sollicitudin, tempus lorem et, luctus ex. Pellentesque lacinia auctor ipsum sed venenatis.\n",
    "\"\"\"\n",
    "\n",
    "# Remove punctuation and convert text to lowercase\n",
    "import string\n",
    "\n",
    "text = text.translate(str.maketrans('', '', string.punctuation)).lower()\n",
    "\n",
    "# Split text into words\n",
    "words_list = text.split()\n",
    "\n",
    "# Create dictionary of words, consider MISSING words, this is, words that appear for the first time\n",
    "words = {}\n",
    "for word in words_list:\n",
    "    if word in words:\n",
    "        words[word] += 1\n",
    "    else:\n",
    "        words[word] = 1\n",
    "\n",
    "# Print the resulting dictionary\n",
    "print(words)\n"
   ]
  },
  {
   "cell_type": "markdown",
   "id": "c9a65c51-b3dd-4b29-8788-5ea507500b8f",
   "metadata": {},
   "source": [
    "## Defaultdic\n",
    "\n",
    "Defaultdict is a container like dictionaries present in the module collections. Defaultdict is a sub-class of the dictionary class that returns a dictionary-like object. The functionality of both dictionaries and defaultdict are almost same except for the fact that defaultdict never raises a KeyError. It provides a default value for the key that does not exists."
   ]
  },
  {
   "cell_type": "code",
   "execution_count": 35,
   "id": "2be89e9c-e369-4d83-bc04-12f3cffd2a27",
   "metadata": {},
   "outputs": [
    {
     "name": "stdout",
     "output_type": "stream",
     "text": [
      "1\n",
      "2\n",
      "Not Present\n"
     ]
    }
   ],
   "source": [
    "from collections import defaultdict \n",
    "\n",
    "# Function to return a default \n",
    "# values for keys that is not \n",
    "# present \n",
    "def def_value(): \n",
    "    return \"Not Present\"\n",
    "    \n",
    "# Defining the dict \n",
    "d = defaultdict(def_value) \n",
    "d[\"a\"] = 1\n",
    "d[\"b\"] = 2\n",
    "\n",
    "print(d[\"a\"]) \n",
    "print(d[\"b\"]) \n",
    "print(d[\"c\"]) \n"
   ]
  },
  {
   "cell_type": "markdown",
   "id": "f22c126f-1d45-4b06-ae4e-51cee35977cb",
   "metadata": {},
   "source": [
    "## A list of dictionaries\n"
   ]
  },
  {
   "cell_type": "code",
   "execution_count": 36,
   "id": "93915d5b-2c9a-4b27-821f-822cf0cae87c",
   "metadata": {},
   "outputs": [
    {
     "name": "stdout",
     "output_type": "stream",
     "text": [
      "All people:\n",
      "{'name': 'Alice', 'age': 30, 'city': 'New York'}\n",
      "{'name': 'Bob', 'age': 25, 'city': 'Los Angeles'}\n",
      "{'name': 'Charlie', 'age': 35, 'city': 'Chicago'}\n",
      "{'name': 'David', 'age': 40, 'city': 'New York'}\n",
      "\n",
      "Names of all people:\n",
      "Alice\n",
      "Bob\n",
      "Charlie\n",
      "David\n",
      "\n",
      "People from New York:\n",
      "{'name': 'Alice', 'age': 30, 'city': 'New York'}\n",
      "{'name': 'David', 'age': 40, 'city': 'New York'}\n",
      "\n",
      "Updating Bob's age to 26:\n",
      "{'name': 'Bob', 'age': 26, 'city': 'Los Angeles'}\n",
      "\n",
      "Adding a new person:\n",
      "{'name': 'Eve', 'age': 28, 'city': 'Boston'}\n",
      "\n",
      "Removing Charlie from the list:\n",
      "{'name': 'Alice', 'age': 30, 'city': 'New York'}\n",
      "{'name': 'Bob', 'age': 26, 'city': 'Los Angeles'}\n",
      "{'name': 'David', 'age': 40, 'city': 'New York'}\n",
      "{'name': 'Eve', 'age': 28, 'city': 'Boston'}\n",
      "\n",
      "People sorted by age:\n",
      "{'name': 'Bob', 'age': 26, 'city': 'Los Angeles'}\n",
      "{'name': 'Eve', 'age': 28, 'city': 'Boston'}\n",
      "{'name': 'Alice', 'age': 30, 'city': 'New York'}\n",
      "{'name': 'David', 'age': 40, 'city': 'New York'}\n",
      "\n",
      "List of names:\n",
      "['Alice', 'Bob', 'David', 'Eve']\n"
     ]
    }
   ],
   "source": [
    "# List of dictionaries\n",
    "people = [\n",
    "    {\"name\": \"Alice\", \"age\": 30, \"city\": \"New York\"},\n",
    "    {\"name\": \"Bob\", \"age\": 25, \"city\": \"Los Angeles\"},\n",
    "    {\"name\": \"Charlie\", \"age\": 35, \"city\": \"Chicago\"},\n",
    "    {\"name\": \"David\", \"age\": 40, \"city\": \"New York\"}\n",
    "]\n",
    "\n",
    "# 1. Print all the dictionaries\n",
    "print(\"All people:\")\n",
    "for person in people:\n",
    "    print(person)\n",
    "\n",
    "# 2. Access specific values\n",
    "print(\"\\nNames of all people:\")\n",
    "for person in people:\n",
    "    print(person[\"name\"])\n",
    "\n",
    "# 3. Filter based on a condition\n",
    "print(\"\\nPeople from New York:\")\n",
    "#This part specifies what should be included in the new list for each iteration of the loop\n",
    "new_yorkers = [person for person in people if person[\"city\"] == \"New York\"]\n",
    "for new_yorker in new_yorkers:\n",
    "    print(new_yorker)\n",
    "\n",
    "# 4. Modify a dictionary in the list\n",
    "print(\"\\nUpdating Bob's age to 26:\")\n",
    "for person in people:\n",
    "    if person[\"name\"] == \"Bob\":\n",
    "        person[\"age\"] = 26\n",
    "        print(person)\n",
    "\n",
    "# 5. Add a new dictionary to the list\n",
    "print(\"\\nAdding a new person:\")\n",
    "new_person = {\"name\": \"Eve\", \"age\": 28, \"city\": \"Boston\"}\n",
    "people.append(new_person)\n",
    "print(new_person)\n",
    "\n",
    "# 6. Remove a dictionary from the list\n",
    "print(\"\\nRemoving Charlie from the list:\")\n",
    "people = [person for person in people if person[\"name\"] != \"Charlie\"]\n",
    "for person in people:\n",
    "    print(person)\n",
    "\n",
    "# 7. Sort the list of dictionaries by age\n",
    "print(\"\\nPeople sorted by age:\")\n",
    "people_sorted_by_age = sorted(people, key=lambda x: x[\"age\"])\n",
    "for person in people_sorted_by_age:\n",
    "    print(person)\n",
    "\n",
    "# 8. Extract a list of names\n",
    "print(\"\\nList of names:\")\n",
    "names = [person[\"name\"] for person in people]\n",
    "print(names)\n"
   ]
  },
  {
   "cell_type": "code",
   "execution_count": null,
   "id": "7442517d-9c4d-405e-8e60-8f7eff7f2fec",
   "metadata": {},
   "outputs": [],
   "source": []
  }
 ],
 "metadata": {
  "kernelspec": {
   "display_name": "Python 3 (ipykernel)",
   "language": "python",
   "name": "python3"
  },
  "language_info": {
   "codemirror_mode": {
    "name": "ipython",
    "version": 3
   },
   "file_extension": ".py",
   "mimetype": "text/x-python",
   "name": "python",
   "nbconvert_exporter": "python",
   "pygments_lexer": "ipython3",
   "version": "3.10.12"
  }
 },
 "nbformat": 4,
 "nbformat_minor": 5
}

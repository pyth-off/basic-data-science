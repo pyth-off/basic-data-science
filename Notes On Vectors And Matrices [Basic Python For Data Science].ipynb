{
 "cells": [
  {
   "cell_type": "markdown",
   "id": "b8ec9327",
   "metadata": {},
   "source": [
    "<!--TABLE OF CONTENTS-->\n",
    "Contents:\n",
    "- [Notes On Vectors And Matrices [Basic Python For Data Science]](#Notes-On-Vectors-And-Matrices-[Basic-Python-For-Data-Science])\n",
    "    - [Vector Multiplication](#Vector-Multiplication)\n",
    "    - [Vector Mean](#Vector-Mean)\n",
    "    - [Vector Dot Product](#Vector-Dot-Product)\n",
    "    - [Vector Sum Of Squares](#Vector-Sum-Of-Squares)\n",
    "    - [Vector Magnitude](#Vector-Magnitude)\n",
    "    - [Vector Distance & Square Distance](#Vector-Distance-&-Square-Distance)\n",
    "  - [Matrices](#Matrices)\n",
    "    - [Rows And Columns](#Rows-And-Columns)\n",
    "    - [Create A Matrix](#Create-A-Matrix)"
   ]
  },
  {
   "cell_type": "markdown",
   "id": "32499873-bdd7-4846-aa18-11e80a85d728",
   "metadata": {},
   "source": [
    "# Notes On Vectors And Matrices [Basic Python For Data Science]"
   ]
  },
  {
   "cell_type": "code",
   "execution_count": 236,
   "id": "263cdf06-7100-4c1f-aff1-89500c232d76",
   "metadata": {},
   "outputs": [],
   "source": [
    "## Vectors"
   ]
  },
  {
   "cell_type": "markdown",
   "id": "6264ef0e-c2fc-4d19-9f21-1be6ffe3ef29",
   "metadata": {},
   "source": [
    "A vector is an object with both magnitude and direction. Geometrically, it can be visualized as a directed line segment, where the length represents the magnitude and the arrow indicates the direction. For our purposes, vectors are an effective way to represent numeric data.\n",
    "Examples:"
   ]
  },
  {
   "cell_type": "code",
   "execution_count": 237,
   "id": "263b017a-5c7c-4916-8458-e0f86fca4af9",
   "metadata": {},
   "outputs": [],
   "source": [
    "# Simplest approach, represent a vector as a list of numbers\n",
    "grades = [95,85,70,50] # exam 1, exam 2, exam 3....\n",
    "heigth_weight_age = [180,80,40]"
   ]
  },
  {
   "cell_type": "markdown",
   "id": "910e92d3-66d6-4513-85e4-71ff66af52a4",
   "metadata": {},
   "source": [
    "Vectors are added component-wise. If two vectors have the same length (same number of dimensions), their sum is a new vector where each element is the sum of the corresponding elements in the original vectors. For example, the first element of the sum is \\( v[0] + w[0] \\). If the vectors are not the same length, they cannot be added."
   ]
  },
  {
   "cell_type": "code",
   "execution_count": 238,
   "id": "7e3011b6-a1e4-4cb6-bc1d-09361f669520",
   "metadata": {},
   "outputs": [],
   "source": [
    "### Vector Addition And Substraction"
   ]
  },
  {
   "cell_type": "code",
   "execution_count": 239,
   "id": "5470b759-23c9-496f-a752-a9e7759d5db2",
   "metadata": {},
   "outputs": [
    {
     "name": "stdout",
     "output_type": "stream",
     "text": [
      "[50, 70, 90]\n"
     ]
    }
   ],
   "source": [
    "# Adding vector with zip and list comprehension\n",
    "def vector_add(v, w):\n",
    "    return [v_i + w_i for v_i, w_i in zip(v, w)]\n",
    "\n",
    "vector_one = [10, 20, 30]\n",
    "vector_two = [40, 50, 60]\n",
    "\n",
    "print(vector_add(vector_one, vector_two))"
   ]
  },
  {
   "cell_type": "code",
   "execution_count": 240,
   "id": "3fc3f24b-e237-430e-9cfe-1283a8b7c197",
   "metadata": {},
   "outputs": [
    {
     "name": "stdout",
     "output_type": "stream",
     "text": [
      "[-30, -30, -30]\n"
     ]
    }
   ],
   "source": [
    "# Substract elements\n",
    "def vector_substract(v, w):\n",
    "    return [v_i - w_i for v_i, w_i in zip(v, w)]\n",
    "\n",
    "print(vector_substract(vector_one, vector_two))"
   ]
  },
  {
   "cell_type": "code",
   "execution_count": 241,
   "id": "279eb04a-00e8-452b-9b05-f77c3ff45d78",
   "metadata": {},
   "outputs": [
    {
     "name": "stdout",
     "output_type": "stream",
     "text": [
      "[20, 40, 60]\n"
     ]
    }
   ],
   "source": [
    "# Create a new vector by adding vectors\n",
    "def vector_sum(vectors):\n",
    "    result = vectors[0] # first vector\n",
    "    for vector in vectors[:1]:\n",
    "        result = vector_add(result, vector)\n",
    "    return result\n",
    "\n",
    "print(vector_sum([vector_one, vector_two]))"
   ]
  },
  {
   "cell_type": "code",
   "execution_count": 242,
   "id": "6bc73483-5ef0-44da-a778-02730eddeba2",
   "metadata": {},
   "outputs": [
    {
     "name": "stdout",
     "output_type": "stream",
     "text": [
      "[50, 70, 90]\n",
      "functools.partial(<built-in function reduce>, <function vector_add at 0x78f13aad70a0>)\n"
     ]
    }
   ],
   "source": [
    "# A better version would be\n",
    "from functools import partial, reduce\n",
    "\n",
    "def vector_sum_reduce(vectors):\n",
    "    return reduce(vector_add, vectors)\n",
    "\n",
    "# or even\n",
    "vector_sum = partial(reduce, vector_add)\n",
    "\n",
    "print(vector_sum_reduce([vector_one, vector_two]))\n",
    "print(vector_sum)"
   ]
  },
  {
   "cell_type": "markdown",
   "id": "3dc85a43-67e2-4707-b039-8216c78ea4b1",
   "metadata": {},
   "source": [
    "### Vector Multiplication"
   ]
  },
  {
   "cell_type": "code",
   "execution_count": 243,
   "id": "e1a4ecd8-677c-46f3-9a2a-325d6f239917",
   "metadata": {},
   "outputs": [
    {
     "name": "stdout",
     "output_type": "stream",
     "text": [
      "[30, 60, 90]\n"
     ]
    }
   ],
   "source": [
    "# Multiply vector by scalar\n",
    "def scalar_multiply(c, v):\n",
    "    return [c * v_i for v_i in v]\n",
    "\n",
    "print(scalar_multiply(3, vector_one))"
   ]
  },
  {
   "cell_type": "markdown",
   "id": "bd5b3b63-3357-429c-8231-51d3b895a311",
   "metadata": {},
   "source": [
    "### Vector Mean"
   ]
  },
  {
   "cell_type": "code",
   "execution_count": 244,
   "id": "ef85aff6-c2c8-4900-81ff-59b78c527e08",
   "metadata": {},
   "outputs": [
    {
     "name": "stdout",
     "output_type": "stream",
     "text": [
      "[25.0, 35.0, 45.0]\n"
     ]
    }
   ],
   "source": [
    "# Compute a means of a list of vectors\n",
    "def vector_mean(vectors):\n",
    "    n = len(vectors)\n",
    "    return scalar_multiply(1/n, vector_sum(vectors))\n",
    "\n",
    "print(vector_mean([vector_one, vector_two]))"
   ]
  },
  {
   "cell_type": "markdown",
   "id": "897324e4-bb45-4510-9c80-53939b97dbf3",
   "metadata": {},
   "source": [
    "### Vector Dot Product\n",
    "\n",
    "The dot product, also known as the scalar product, is a way of multiplying two vectors that results in a single number (a scalar). It is calculated by multiplying corresponding components of the vectors and then summing these products. For two vectors \\( \\mathbf{a} = [a_1, a_2, \\ldots, a_n] \\) and \\( \\mathbf{b} = [b_1, b_2, \\ldots, b_n] \\), the dot product is defined as:\n",
    "\n",
    "\\[ \\mathbf{a} \\cdot \\mathbf{b} = a_1 b_1 + a_2 b_2 + \\cdots + a_n b_n \\]\n",
    "\n",
    "In other words,\n",
    "\n",
    "\\[ \\mathbf{a} \\cdot \\mathbf{b} = \\sum_{i=1}^{n} a_i b_i \\]\n",
    "\n",
    "The dot product has various applications, including determining the angle between two vectors and finding projections.\n"
   ]
  },
  {
   "cell_type": "code",
   "execution_count": 245,
   "id": "05c18cc3-ae10-4f19-92be-69cfd6e52836",
   "metadata": {},
   "outputs": [
    {
     "name": "stdout",
     "output_type": "stream",
     "text": [
      "3200\n"
     ]
    }
   ],
   "source": [
    "# The dot product of two vectors is the sum of their componentwise products\n",
    "def dot(v, w):\n",
    "    return sum([v_i * w_i for v_i, w_i in zip(v, w)])\n",
    "\n",
    "print(dot(vector_one, vector_two))"
   ]
  },
  {
   "cell_type": "markdown",
   "id": "e838794b-e996-4da4-ac14-ba6c7f51c5f3",
   "metadata": {},
   "source": [
    "### Vector Sum Of Squares"
   ]
  },
  {
   "cell_type": "code",
   "execution_count": 246,
   "id": "48734809-7e07-4306-986f-66b6bc91ff49",
   "metadata": {},
   "outputs": [
    {
     "name": "stdout",
     "output_type": "stream",
     "text": [
      "1400\n"
     ]
    }
   ],
   "source": [
    "def sum_of_squares(v):\n",
    "    return dot(v, v)\n",
    "\n",
    "print(sum_of_squares(vector_one))"
   ]
  },
  {
   "cell_type": "markdown",
   "id": "a069ff2f-2c9f-4113-9a3c-83ff66bf9370",
   "metadata": {},
   "source": [
    "### Vector Magnitude\n",
    "\n",
    "The magnitude (or length) of a vector is a measure of its size. For a vector \\( \\mathbf{v} = [v_1, v_2, \\ldots, v_n] \\), the magnitude is calculated using the Euclidean norm, which is the square root of the sum of the squares of its components. Mathematically, it is represented as:\n",
    "\n",
    "\\[ \\|\\mathbf{v}\\| = \\sqrt{v_1^2 + v_2^2 + \\cdots + v_n^2} \\]\n",
    "\n",
    "For example, for a vector \\( \\mathbf{v} = [3, 4] \\):\n",
    "\n",
    "\\[ \\|\\mathbf{v}\\| = \\sqrt{3^2 + 4^2} = \\sqrt{9 + 16} = \\sqrt{25} = 5 \\]\n",
    "\n",
    "This formula provides the length of the vector from the origin to the point defined by the vector in n-dimensional space.\n",
    "\n"
   ]
  },
  {
   "cell_type": "code",
   "execution_count": 247,
   "id": "f0a0036f-5e61-4646-9859-1324a03cc7b9",
   "metadata": {},
   "outputs": [
    {
     "name": "stdout",
     "output_type": "stream",
     "text": [
      "37.416573867739416\n"
     ]
    }
   ],
   "source": [
    "import math\n",
    "\n",
    "def magnitude(v):\n",
    "    return math.sqrt(sum_of_squares(v))\n",
    "\n",
    "print(magnitude(vector_one))"
   ]
  },
  {
   "cell_type": "markdown",
   "id": "55d78b04-e3b4-4f66-8727-f123d6573a97",
   "metadata": {},
   "source": [
    "### Vector Distance & Square Distance\n",
    "\n",
    "The square distance, also known as the squared Euclidean distance, is the sum of the squared differences between corresponding components of two vectors. For two vectors \\( \\mathbf{u} = [u_1, u_2, \\ldots, u_n] \\) and \\( \\mathbf{v} = [v_1, v_2, \\ldots, v_n] \\), the squared Euclidean distance is calculated using the following formula:\n",
    "\n",
    "\\[ d^2(\\mathbf{u}, \\mathbf{v}) = (u_1 - v_1)^2 + (u_2 - v_2)^2 + \\cdots + (u_n - v_n)^2 \\]\n",
    "\n",
    "For example, for vectors \\( \\mathbf{u} = [1, 2, 3] \\) and \\( \\mathbf{v} = [4, 5, 6] \\):\n",
    "\n",
    "\\[ d^2(\\mathbf{u}, \\mathbf{v}) = (1 - 4)^2 + (2 - 5)^2 + (3 - 6)^2 = (-3)^2 + (-3)^2 + (-3)^2 = 9 + 9 + 9 = 27 \\]\n",
    "\n",
    "This formula provides the squared distance, which is often used in optimization problems and machine learning algorithms because it avoids the computational cost of the square root.\n"
   ]
  },
  {
   "cell_type": "code",
   "execution_count": 248,
   "id": "bc322a7a-9266-456a-adaf-5e985da7ef98",
   "metadata": {},
   "outputs": [
    {
     "name": "stdout",
     "output_type": "stream",
     "text": [
      "2700\n"
     ]
    }
   ],
   "source": [
    "def squared_distance(v, w):\n",
    "    return sum_of_squares(vector_substract(v, w))\n",
    "\n",
    "print(squared_distance(vector_one, vector_two))"
   ]
  },
  {
   "cell_type": "markdown",
   "id": "36b399e8-33e2-4d74-81cb-e4caab7c0811",
   "metadata": {},
   "source": [
    "\n",
    "The vector distance, also known as the Euclidean distance, is the straight-line distance between two vectors in Euclidean space. For two vectors \\( \\mathbf{u} = [u_1, u_2, \\ldots, u_n] \\) and \\( \\mathbf{v} = [v_1, v_2, \\ldots, v_n] \\), the Euclidean distance is calculated using the following formula:\n",
    "\n",
    "\\[ d(\\mathbf{u}, \\mathbf{v}) = \\sqrt{(u_1 - v_1)^2 + (u_2 - v_2)^2 + \\cdots + (u_n - v_n)^2} \\]\n",
    "\n",
    "For example, for vectors \\( \\mathbf{u} = [1, 2, 3] \\) and \\( \\mathbf{v} = [4, 5, 6] \\):\n",
    "\n",
    "\\[ d(\\mathbf{u}, \\mathbf{v}) = \\sqrt{(1 - 4)^2 + (2 - 5)^2 + (3 - 6)^2} = \\sqrt{(-3)^2 + (-3)^2 + (-3)^2} = \\sqrt{9 + 9 + 9} = \\sqrt{27} = 3\\sqrt{3} \\]\n",
    "\n",
    "This formula provides the direct distance between two points in n-dimensional space.\n",
    "\n"
   ]
  },
  {
   "cell_type": "code",
   "execution_count": 249,
   "id": "d2b2a1e6-3156-4aa7-a0cd-d4257aa639b0",
   "metadata": {},
   "outputs": [
    {
     "name": "stdout",
     "output_type": "stream",
     "text": [
      "51.96152422706632\n"
     ]
    }
   ],
   "source": [
    "def distance(v, w):\n",
    "    return magnitude(vector_substract(v, w))\n",
    "\n",
    "print(distance(vector_one, vector_two))"
   ]
  },
  {
   "cell_type": "markdown",
   "id": "6d7e825f-9537-41d6-abb8-726b71e2f068",
   "metadata": {},
   "source": [
    "## Matrices\n",
    "\n",
    "A matrix is a rectangular array of numbers (or other mathematical objects) arranged in rows and columns. \n",
    "In Python. matrices are lists of lists\n"
   ]
  },
  {
   "cell_type": "code",
   "execution_count": 250,
   "id": "3819b8a6-ac2d-45cc-bc7a-4bf7e036befc",
   "metadata": {},
   "outputs": [
    {
     "name": "stdout",
     "output_type": "stream",
     "text": [
      "'A' is a 2 x 3 matrix\n"
     ]
    }
   ],
   "source": [
    "A = [[2,4,6],[8,10,12]]\n",
    "B = [[1,3,5],[7,9,11]]\n",
    "\n",
    "def shape(A):\n",
    "    num_rows = len(A)\n",
    "    num_cols = len(A[0]) if A else 0 # number of elements in the first row\n",
    "    return num_rows, num_cols\n",
    "\n",
    "num_rows, num_cols = shape(A)\n",
    "print(\"'A' is a {} x {} matrix\".format(num_rows, num_cols))"
   ]
  },
  {
   "cell_type": "markdown",
   "id": "4bf03b40-4ea7-451c-805a-cfcd3cc69d14",
   "metadata": {},
   "source": [
    "### Rows And Columns"
   ]
  },
  {
   "cell_type": "code",
   "execution_count": 251,
   "id": "f2d1a7b5-4501-462c-b10f-fb74f78594e0",
   "metadata": {},
   "outputs": [
    {
     "name": "stdout",
     "output_type": "stream",
     "text": [
      "[8, 10, 12]\n",
      "[4, 10]\n"
     ]
    }
   ],
   "source": [
    "def get_row(A, i):\n",
    "    return A[i]\n",
    "\n",
    "def get_column(A, j):\n",
    "    return [A_i[j] for A_i in A]\n",
    "\n",
    "print(get_row(A, 1))\n",
    "print(get_column(A, 1))"
   ]
  },
  {
   "cell_type": "markdown",
   "id": "ba60be9d-c935-4c40-9d4b-35941d0462cf",
   "metadata": {},
   "source": [
    "### Create A Matrix"
   ]
  },
  {
   "cell_type": "code",
   "execution_count": 252,
   "id": "3ef78580-474f-413d-8ba0-b485e4a9c21b",
   "metadata": {},
   "outputs": [
    {
     "name": "stdout",
     "output_type": "stream",
     "text": [
      "[[1, 0, 0, 0, 0], [0, 1, 0, 0, 0], [0, 0, 1, 0, 0], [0, 0, 0, 1, 0], [0, 0, 0, 0, 1]]\n"
     ]
    }
   ],
   "source": [
    "def make_matrix(num_rows, num_cols, entry_fn):\n",
    "    \"\"\" Returns a num_rows x num_cols matrix whose (i, j)th entry is entry_fn(i, j)\"\"\"\n",
    "    return [[entry_fn(i, j) for j in range(num_cols)] for i in range(num_rows)]\n",
    "\n",
    "def is_diagonal(i, j):\n",
    "    \"\"\" Put 1s on the diagonal) \"\"\"\n",
    "    return 1 if(i == j) else 0\n",
    "\n",
    "print(make_matrix(5,5, is_diagonal))"
   ]
  }
 ],
 "metadata": {
  "kernelspec": {
   "display_name": "Python 3 (ipykernel)",
   "language": "python",
   "name": "python3"
  },
  "language_info": {
   "codemirror_mode": {
    "name": "ipython",
    "version": 3
   },
   "file_extension": ".py",
   "mimetype": "text/x-python",
   "name": "python",
   "nbconvert_exporter": "python",
   "pygments_lexer": "ipython3",
   "version": "3.10.12"
  }
 },
 "nbformat": 4,
 "nbformat_minor": 5
}

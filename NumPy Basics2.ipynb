{
 "cells": [
  {
   "cell_type": "markdown",
   "id": "db85d5b0-425b-4280-b233-72c3fca00245",
   "metadata": {},
   "source": [
    "# Numpy Basics 2"
   ]
  },
  {
   "cell_type": "markdown",
   "id": "7162faff",
   "metadata": {},
   "source": [
    "<!--TABLE OF CONTENTS-->\n",
    "Contents:\n",
    "- [Numpy Basics 2](#Numpy-Basics-2)\n",
    "    - [Pseudorandom Number Generation](#Pseudorandom-Number-Generation)\n",
    "    - [Fast Element-Wise Array Functions](#Fast-Element-Wise-Array-Functions)\n",
    "    - [Array-Oriented Programming With Arrays](#Array-Oriented-Programming-With-Arrays)\n",
    "    - [Conditional Logic as Array Operations](#Conditional-Logic-as-Array-Operations)\n",
    "    - [Mathematical Statistical Methods](#Mathematical-Statistical-Methods)\n",
    "      - [Functions Overview](#Functions-Overview)\n",
    "    - [Methods For Boolean Arrays](#Methods-For-Boolean-Arrays)\n",
    "    - [Sorting](#Sorting)\n",
    "    - [Unique and Other Set Logic](#Unique-and-Other-Set-Logic)\n",
    "      - [Functions Overview](#Functions-Overview)\n",
    "    - [File Input and Output with Arrays](#File-Input-and-Output-with-Arrays)\n",
    "    - [1. Saving and Loading Arrays in Binary Format](#1.-Saving-and-Loading-Arrays-in-Binary-Format)\n",
    "      - [`np.save()`](#`np.save()`)\n",
    "      - [`np.load()`](#`np.load()`)\n",
    "      - [`np.savez()`](#`np.savez()`)\n",
    "      - [`np.load()`](#`np.load()`)\n",
    "    - [2. Saving and Loading Arrays in Text Format](#2.-Saving-and-Loading-Arrays-in-Text-Format)\n",
    "      - [`np.savetxt()`](#`np.savetxt()`)\n",
    "      - [`np.loadtxt()`](#`np.loadtxt()`)\n",
    "    - [3. Reading and Writing Arrays to/from CSV Files](#3.-Reading-and-Writing-Arrays-to/from-CSV-Files)\n",
    "      - [`np.genfromtxt()`](#`np.genfromtxt()`)\n",
    "      - [`np.savetxt()`](#`np.savetxt()`)\n",
    "    - [Example of File Operations](#Example-of-File-Operations)\n",
    "- [Create an example array](#Create-an-example-array)\n",
    "- [Save array in binary format](#Save-array-in-binary-format)\n",
    "- [Load array from binary format](#Load-array-from-binary-format)\n",
    "- [Save array in text format (CSV)](#Save-array-in-text-format-(CSV))\n",
    "- [Load array from text format (CSV)](#Load-array-from-text-format-(CSV))\n",
    "    - [Linear Algebra](#Linear-Algebra)"
   ]
  },
  {
   "cell_type": "markdown",
   "id": "f89f80bd-5f9f-47ad-bdac-e0df0cdc217e",
   "metadata": {},
   "source": [
    "### Pseudorandom Number Generation"
   ]
  },
  {
   "cell_type": "code",
   "execution_count": 188,
   "id": "828ac506-c37c-4ad7-a75e-759012c2788d",
   "metadata": {},
   "outputs": [
    {
     "name": "stdout",
     "output_type": "stream",
     "text": [
      "[[ 0.40017949 -0.78484572 -1.1059112   0.03941549]\n",
      " [ 0.44167387  0.61347002  0.05631264 -0.59711001]\n",
      " [-0.63483276  1.10080136  0.9363575   1.60034635]\n",
      " [-0.26232591 -0.32133689  0.39819384  0.82731454]]\n"
     ]
    }
   ],
   "source": [
    "import numpy as np\n",
    "import random\n",
    "samples = np.random.standard_normal(size=(4,4))\n",
    "print(samples)\n",
    "# Comparing with python random\n",
    "N = 1_000_000\n",
    "%timeit samples = [normalvariate(0, 1) for _ in range(N)]\n",
    "%timeit np.random.standard_normal(N)"
   ]
  },
  {
   "cell_type": "markdown",
   "id": "39e7a528-3117-434d-8bc5-1429fb92ce46",
   "metadata": {},
   "source": [
    "### Fast Element-Wise Array Functions"
   ]
  },
  {
   "cell_type": "code",
   "execution_count": 189,
   "id": "8529b4cc-1845-4201-acb3-20176dbd4b74",
   "metadata": {},
   "outputs": [
    {
     "name": "stdout",
     "output_type": "stream",
     "text": [
      "[0.         1.         1.41421356 1.73205081 2.         2.23606798\n",
      " 2.44948974 2.64575131 2.82842712 3.        ]\n",
      "[1.00000000e+00 2.71828183e+00 7.38905610e+00 2.00855369e+01\n",
      " 5.45981500e+01 1.48413159e+02 4.03428793e+02 1.09663316e+03\n",
      " 2.98095799e+03 8.10308393e+03]\n"
     ]
    }
   ],
   "source": [
    "# ufunc or \"unary functions\" are functions that perform element-wise operations like sqrt or exp\n",
    "arr = np.arange(10)\n",
    "print(np.sqrt(arr))\n",
    "print(np.exp(arr))"
   ]
  },
  {
   "cell_type": "code",
   "execution_count": 190,
   "id": "b900222f-aed1-43cf-80f9-64655f08cc1f",
   "metadata": {},
   "outputs": [
    {
     "name": "stdout",
     "output_type": "stream",
     "text": [
      "[-1.60383681  0.06409991  0.7408913   0.15261919  0.86374389  2.91309922\n",
      " -1.47882336  0.94547297] [-1.66613546  0.34374458 -0.51244371  1.32375896 -0.86028019  0.5194932\n",
      " -1.26514372 -2.15913901]\n",
      "[-1.60383681  0.34374458  0.7408913   1.32375896  0.86374389  2.91309922\n",
      " -1.26514372  0.94547297]\n",
      "[ 2.17366975  8.6664466   2.60067078 -5.01082897  1.3417277   3.8358735\n",
      "  5.95636013]\n",
      "[ 0.17366975  0.6664466   0.60067078 -0.01082897  0.3417277   0.8358735\n",
      "  0.95636013] [ 2.  8.  2. -5.  1.  3.  5.]\n"
     ]
    }
   ],
   "source": [
    "rng = np.random.default_rng(seed=1234)\n",
    "\n",
    "x = rng.standard_normal(8)\n",
    "y = rng.standard_normal(8)\n",
    "print(x, y)\n",
    "print(np.maximum(x,y))\n",
    "\n",
    "arr = rng.standard_normal(7) * 5\n",
    "print(arr)\n",
    "\n",
    "remainder, whole_part = np.modf(arr)\n",
    "print(remainder, whole_part)"
   ]
  },
  {
   "cell_type": "markdown",
   "id": "2a30e669-8b1b-4c30-bc84-81d8e10170ad",
   "metadata": {},
   "source": [
    "NumPy unary universal functions (ufuncs) are functions that operate element-wise on arrays. These functions take a single input array and produce an output array of the same shape, with each element in the output array being the result of applying the function to the corresponding element in the input array. Unary ufuncs are optimized for performance and are highly efficient for array operations.\n",
    "\n",
    "- **Absolute Value**:\n",
    "  - `numpy.abs(x)`: Computes the absolute value of each element.\n",
    "  - `numpy.fabs(x)`: Computes the absolute value, but always returns a floating-point number.\n",
    "\n",
    "- **Square Root**:\n",
    "  - `numpy.sqrt(x)`: Computes the square root of each element.\n",
    "\n",
    "- **Exponential and Logarithmic Functions**:\n",
    "  - `numpy.exp(x)`: Computes the exponential of each element.\n",
    "  - `numpy.expm1(x)`: Computes `exp(x) - 1` for each element.\n",
    "  - `numpy.log(x)`: Computes the natural logarithm (base e) of each element.\n",
    "  - `numpy.log1p(x)`: Computes `log(1 + x)` for each element.\n",
    "  - `numpy.log10(x)`: Computes the base-10 logarithm of each element.\n",
    "  - `numpy.log2(x)`: Computes the base-2 logarithm of each element.\n",
    "\n",
    "- **Standard Trigonometric Functions**:\n",
    "  - `numpy.sin(x)`: Computes the sine of each element.\n",
    "  - `numpy.cos(x)`: Computes the cosine of each element.\n",
    "  - `numpy.tan(x)`: Computes the tangent of each element.\n",
    "\n",
    "- **Inverse Trigonometric Functions**:\n",
    "  - `numpy.arcsin(x)`: Computes the inverse sine of each element.\n",
    "  - `numpy.arccos(x)`: Computes the inverse cosine of each element.\n",
    "  - `numpy.arctan(x)`: Computes the inverse tangent of each element.\n",
    "\n",
    "- **Hyperbolic Functions**:\n",
    "  - `numpy.sinh(x)`: Computes the hyperbolic sine of each element.\n",
    "  - `numpy.cosh(x)`: Computes the hyperbolic cosine of each element.\n",
    "  - `numpy.tanh(x)`: Computes the hyperbolic tangent of each element.\n",
    "\n",
    "- **Inverse Hyperbolic Functions**:\n",
    "  - `numpy.arcsinh(x)`: Computes the inverse hyperbolic sine of each element.\n",
    "  - `numpy.arccosh(x)`: Computes the inverse hyperbolic cosine of each element.\n",
    "  - `numpy.arctanh(x)`: Computes the inverse hyperbolic tangent of each element.\n",
    "\n",
    "- **Rounding and Truncation**:\n",
    "  - `numpy.rint(x)`: Rounds each element to the nearest integer.\n",
    "  - `numpy.floor(x)`: Computes the floor of each element (largest integer less than or equal to the element).\n",
    "  - `numpy.ceil(x)`: Computes the ceiling of each element (smallest integer greater than or equal to the element).\n",
    "  - `numpy.trunc(x)`: Truncates each element (removes the fractional part).\n",
    "\n",
    "- **Sign Function**:\n",
    "  - `numpy.sign(x)`: Computes the sign of each element (-1 for negative, 0 for zero, 1 for positive).\n",
    "\n",
    "- **Nan-Handling Functions**:\n",
    "  - `numpy.isnan(x)`: Tests element-wise for NaNs (Not a Number).\n",
    "  - `numpy.isfinite(x)`: Tests element-wise for finite values (not infinity or NaN).\n",
    "  - `numpy.isinf(x)`: Tests element-wise for positive or negative infinity.\n",
    "\n",
    "- **Real and Imaginary Parts**:\n",
    "  - `numpy.real(x)`: Returns the real part of each element.\n",
    "  - `numpy.imag(x)`: Returns the imaginary part of each element.\n",
    "\n",
    "- **Complex Conjugate**:\n",
    "  - `numpy.conj(x)`: Returns the complex conjugate of each element.\n"
   ]
  },
  {
   "cell_type": "markdown",
   "id": "be9424c3-c99c-4ca9-96d7-c5cb505d8a94",
   "metadata": {},
   "source": [
    "NumPy binary universal functions (ufuncs) are functions that operate element-wise on two input arrays (or an array and a scalar) and produce an output array of the same shape. These functions perform efficient, element-wise operations between pairs of elements from the input arrays. Here are some common categories and examples of NumPy binary ufuncs:\n",
    "\n",
    "- **Addition**:\n",
    "  - `numpy.add(x1, x2)`: Element-wise addition of two arrays (or an array and a scalar).\n",
    "\n",
    "  - `numpy.subtract(x1, x2)`: Element-wise subtraction of the second array from the first array (or a scalar from an array).\n",
    "\n",
    "- **Multiplication**:\n",
    "  - `numpy.multiply(x1, x2)`: Element-wise multiplication of two arrays (or an array and a scalar).\n",
    "\n",
    "- **Division**:\n",
    "  - `numpy.divide(x1, x2)`: Element-wise division of the first array by the second array (or an array by a scalar).\n",
    "\n",
    "- **Power**:\n",
    "  - `numpy.power(x1, x2)`: Element-wise exponentiation, raising elements of the first array to the power of the elements of the second array (or an array to a scalar power).\n",
    "\n",
    "- **Modulus**:\n",
    "  - `numpy.mod(x1, x2)`: Element-wise modulus (remainder of division) of the first array by the second array (or an array by a scalar).\n",
    "\n",
    "- **Equal**:\n",
    "  - `numpy.equal(x1, x2)`: Element-wise comparison of whether two arrays (or an array and a scalar) are equal.\n",
    "\n",
    "- **Not Equal**:\n",
    "  - `numpy.not_equal(x1, x2)`: Element-wise comparison of whether two arrays (or an array and a scalar) are not equal.\n",
    "\n",
    "- **Greater Than**:\n",
    "  - `numpy.greater(x1, x2)`: Element-wise comparison of whether elements of the first array are greater than those of the second array (or an array is greater than a scalar).\n",
    "\n",
    "- **Greater Than or Equal**:\n",
    "  - `numpy.greater_equal(x1, x2)`: Element-wise comparison of whether elements of the first array are greater than or equal to those of the second array (or an array is greater than or equal to a scalar).\n",
    "\n",
    "- **Less Than**:\n",
    "  - `numpy.less(x1, x2)`: Element-wise comparison of whether elements of the first array are less than those of the second array (or an array is less than a scalar).\n",
    "\n",
    "- **Less Than or Equal**:\n",
    "  - `numpy.less_equal(x1, x2)`: Element-wise comparison of whether elements of the first array are less than or equal to those of the second array (or an array is less than or equal to a scalar).\n",
    "\n",
    "- **Logical And**:\n",
    "  - `numpy.logical_and(x1, x2)`: Element-wise logical AND operation between two arrays (or an array and a scalar).\n",
    "\n",
    "- **Logical Or**:\n",
    "  - `numpy.logical_or(x1, x2)`: Element-wise logical OR operation between two arrays (or an array and a scalar).\n",
    "\n",
    "- **Logical Xor**:\n",
    "  - `numpy.logical_xor(x1, x2)`: Element-wise logical XOR (exclusive OR) operation between two arrays (or an array and a scalar).\n",
    "\n",
    "- **Bitwise And**:\n",
    "  - `numpy.bitwise_and(x1, x2)`: Element-wise bitwise AND operation between two arrays (or an array and a scalar).\n",
    "\n",
    "- **Bitwise Or**:\n",
    "  - `numpy.bitwise_or(x1, x2)`: Element-wise bitwise OR operation between two arrays (or an array and a scalar).\n",
    "\n",
    "- **Bitwise Xor**:\n",
    "  - `numpy.bitwise_xor(x1, x2)`: Element-wise bitwise XOR operation between two arrays (or an array and a scalar).\n",
    "\n",
    "- **Maximum**:\n",
    "  - `numpy.maximum(x1, x2)`: Element-wise maximum of two arrays (or an array and a scalar).\n",
    "\n",
    "- **Minimum**:\n",
    "  - `numpy.minimum(x1, x2)`: Element-wise minimum of two arrays (or an array and a scalar).\n",
    "\n",
    "- **Fmax**:\n",
    "  - `numpy.fmax(x1, x2)`: Element-wise maximum, ignoring NaNs.\n",
    "\n",
    "- **Fmin**:\n",
    "  - `numpy.fmin(x1, x2)`: Element-wise minimum, ignoring NaNs.\n",
    "\n",
    "- **Hypot**:\n",
    "  - `numpy.hypot(x1, x2)`: Computes the element-wise Euclidean norm, `sqrt(x1**2 + x2**2)`.\n",
    "\n",
    "- **Copysign**:\n",
    "  - `numpy.copysign(x1, x2)`: Element-wise copying of the sign of elements from the second array to the first array."
   ]
  },
  {
   "cell_type": "markdown",
   "id": "166c2246-9754-487a-b470-43387b2ff04b",
   "metadata": {},
   "source": [
    "### Array-Oriented Programming With Arrays"
   ]
  },
  {
   "cell_type": "code",
   "execution_count": 191,
   "id": "58330650-0660-4a22-8538-a009db71f084",
   "metadata": {},
   "outputs": [
    {
     "name": "stdout",
     "output_type": "stream",
     "text": [
      "[[-5.   -5.   -5.   ... -5.   -5.   -5.  ]\n",
      " [-4.99 -4.99 -4.99 ... -4.99 -4.99 -4.99]\n",
      " [-4.98 -4.98 -4.98 ... -4.98 -4.98 -4.98]\n",
      " ...\n",
      " [ 4.97  4.97  4.97 ...  4.97  4.97  4.97]\n",
      " [ 4.98  4.98  4.98 ...  4.98  4.98  4.98]\n",
      " [ 4.99  4.99  4.99 ...  4.99  4.99  4.99]]\n",
      "[[7.07106781 7.06400028 7.05693985 ... 7.04988652 7.05693985 7.06400028]\n",
      " [7.06400028 7.05692568 7.04985815 ... 7.04279774 7.04985815 7.05692568]\n",
      " [7.05693985 7.04985815 7.04278354 ... 7.03571603 7.04278354 7.04985815]\n",
      " ...\n",
      " [7.04988652 7.04279774 7.03571603 ... 7.0286414  7.03571603 7.04279774]\n",
      " [7.05693985 7.04985815 7.04278354 ... 7.03571603 7.04278354 7.04985815]\n",
      " [7.06400028 7.05692568 7.04985815 ... 7.04279774 7.04985815 7.05692568]]\n"
     ]
    }
   ],
   "source": [
    "points = np.arange(-5, 5, 0.01)\n",
    "xs, ys = np.meshgrid(points, points)\n",
    "print(ys)\n",
    "\n",
    "z = np.sqrt(xs **2 + ys **2)\n",
    "print(z)"
   ]
  },
  {
   "cell_type": "code",
   "execution_count": 192,
   "id": "b97ea0da-4da7-4836-bb25-deef172d002f",
   "metadata": {},
   "outputs": [
    {
     "data": {
      "text/plain": [
       "Text(0.5, 1.0, 'Image Plot of sqrt(x**2 +y**2) for a grid of values')"
      ]
     },
     "execution_count": 192,
     "metadata": {},
     "output_type": "execute_result"
    },
    {
     "data": {
      "image/png": "[encoded data removed]",
      "text/plain": [
       "<Figure size 640x480 with 2 Axes>"
      ]
     },
     "metadata": {},
     "output_type": "display_data"
    }
   ],
   "source": [
    "import matplotlib.pyplot as plt\n",
    "plt.imshow(z, cmap=plt.cm.grey, extent=[-5, 5, -5, 5])\n",
    "plt.colorbar()\n",
    "plt.title('Image Plot of sqrt(x**2 +y**2) for a grid of values')"
   ]
  },
  {
   "cell_type": "markdown",
   "id": "bc92357e-df80-4f41-9a43-241285805b88",
   "metadata": {},
   "source": [
    "### Conditional Logic as Array Operations"
   ]
  },
  {
   "cell_type": "code",
   "execution_count": 193,
   "id": "e1b1b6e3-9d10-4510-abc2-f76dcf0f8ddc",
   "metadata": {},
   "outputs": [
    {
     "name": "stdout",
     "output_type": "stream",
     "text": [
      "[1, 3, 6, 8, 0]\n",
      "[1 3 6 8 0]\n"
     ]
    }
   ],
   "source": [
    "# while() provides the same functionality as if x x else y\n",
    "# Considering the following\n",
    "x = np.array([1,3,5,7,9])\n",
    "y = np.array([2,4,6,8,0])\n",
    "cond = np.array([True, True, False, False, False])\n",
    "# If cond is True get x else y\n",
    "result = [(x if c else y) for x,y,c in zip(x,y,cond)]\n",
    "print(result)\n",
    "# Same thing\n",
    "print(np.where(cond, x, y))"
   ]
  },
  {
   "cell_type": "markdown",
   "id": "a5f8be58-c708-40db-b4ca-c12dd8614dd4",
   "metadata": {},
   "source": [
    "### Mathematical Statistical Methods"
   ]
  },
  {
   "cell_type": "code",
   "execution_count": null,
   "id": "34db6fdc-6f93-497b-869c-70ad7e953656",
   "metadata": {},
   "outputs": [],
   "source": [
    "# random normal distribution\n",
    "arr = rng.standard_normal([5, 4])\n",
    "print(arr)\n",
    "# Mean\n",
    "print('Mean\\n')\n",
    "print(arr.mean(), np.mean(arr))\n",
    "# Produce mean across the columns\n",
    "print(arr.mean(axis=1))\n",
    "# Sum \n",
    "print('Sum\\n')\n",
    "print(arr.sum(), np.sum(arr))\n",
    "# Cumulative sum\n",
    "print('CumSum\\n')\n",
    "print(arr.cumsum(), np.cumsum(arr))\n",
    "# Cumulative sum across rows and columns\n",
    "print(arr.cumsum(axis=0))\n",
    "print(arr.cumsum(axis=1))"
   ]
  },
  {
   "cell_type": "markdown",
   "id": "a9cd338c-4f47-4af7-a73c-58ba14c5e51f",
   "metadata": {},
   "source": [
    "#### Functions Overview\n",
    "\n",
    "1. **Mean**: Calculates the average of the array elements.\n",
    "   ```python\n",
    "   np.mean(array)\n",
    "   ```\n",
    "\n",
    "2. **Median**: Finds the median value of the array elements.\n",
    "   ```python\n",
    "   np.median(array)\n",
    "   ```\n",
    "\n",
    "3. **Standard Deviation**: Measures the spread of the array elements from the mean.\n",
    "   ```python\n",
    "   np.std(array)\n",
    "   ```\n",
    "\n",
    "4. **Variance**: Calculates the variance of the array elements.\n",
    "   ```python\n",
    "   np.var(array)\n",
    "   ```\n",
    "\n",
    "5. **Minimum and Maximum**: Finds the minimum and maximum values in the array.\n",
    "   ```python\n",
    "   np.min(array)\n",
    "   np.max(array)\n",
    "   ```\n",
    "\n",
    "6. **Sum**: Computes the sum of the array elements.\n",
    "   ```python\n",
    "   np.sum(array)\n",
    "   ```\n",
    "\n",
    "7. **Product**: Computes the product of the array elements.\n",
    "   ```python\n",
    "   np.prod(array)\n",
    "   ```\n",
    "\n",
    "8. **Percentile**: Computes the nth percentile of the array elements.\n",
    "   ```python\n",
    "   np.percentile(array, n)\n",
    "   ```\n",
    "\n",
    "9. **Quantile**: Computes the quantile of the array elements.\n",
    "   ```python\n",
    "   np.quantile(array, q)\n",
    "   ```\n",
    "\n",
    "10. **Cumulative Sum**: Computes the cumulative sum of the array elements.\n",
    "    ```python\n",
    "    np.cumsum(array)\n",
    "    ```\n",
    "\n",
    "11. **Cumulative Product**: Computes the cumulative product of the array elements.\n",
    "    ```python\n",
    "    np.cumprod(array)\n",
    "    ```\n",
    "\n",
    "12. **Correlation Coefficient**: Computes the correlation coefficient matrix.\n",
    "    ```python\n",
    "    np.corrcoef(array)\n",
    "    ```\n",
    "\n",
    "13. **Covariance Matrix**: Computes the covariance matrix.\n",
    "    ```python\n",
    "    np.cov(array)\n",
    "    ```\n",
    "\n",
    "These methods can be applied to 1-dimensional arrays as well as multi-dimensional arrays by specifying the `axis` parameter to perform the operation along a specific axis. For example, to compute the mean along the rows (axis 0) of a 2D array:\n",
    "\n",
    "```python\n",
    "np.mean(array, axis=0)\n",
    "```\n",
    "\n",
    "And to compute the mean along the columns (axis 1):\n",
    "\n",
    "```python\n",
    "np.mean(array, axis=1)\n",
    "```"
   ]
  },
  {
   "cell_type": "markdown",
   "id": "553a27c3-8c67-445d-a318-201723e29bde",
   "metadata": {},
   "source": [
    "### Methods For Boolean Arrays"
   ]
  },
  {
   "cell_type": "code",
   "execution_count": 194,
   "id": "5d57a0ca-49da-42d8-a496-27bad3513ce4",
   "metadata": {},
   "outputs": [
    {
     "name": "stdout",
     "output_type": "stream",
     "text": [
      "57\n",
      "43\n",
      "True\n",
      "False\n"
     ]
    }
   ],
   "source": [
    "arr = rng.standard_normal(100)\n",
    "# Sum positivte values\n",
    "print((arr > 0).sum())\n",
    "# Negative values\n",
    "print((arr < 0).sum())\n",
    "\n",
    "bools = np.array([True, False, True, False])\n",
    "# Are there any True values?\n",
    "print(bools.any())\n",
    "# Are they all True?\n",
    "print(bools.all())"
   ]
  },
  {
   "cell_type": "markdown",
   "id": "4866ac9f-abf8-4e37-943e-b95f528e9cc5",
   "metadata": {},
   "source": [
    "### Sorting"
   ]
  },
  {
   "cell_type": "code",
   "execution_count": 195,
   "id": "d48a89f7-5d2b-4bce-94d4-90bb3a365d50",
   "metadata": {},
   "outputs": [
    {
     "name": "stdout",
     "output_type": "stream",
     "text": [
      "Original\n",
      "\n",
      "[ 0.15826595 -1.09056182 -1.31971594  0.83865147  2.11976386 -0.04957244\n",
      "  0.32569785 -0.54832337 -0.27031907 -1.67280539]\n",
      "Sorted\n",
      "\n",
      "[-1.67280539 -1.31971594 -1.09056182 -0.54832337 -0.27031907 -0.04957244\n",
      "  0.15826595  0.32569785  0.83865147  2.11976386]\n",
      "Original\n",
      "\n",
      "[[ 0.0828318   0.19019274 -0.30820715]\n",
      " [ 0.10708834 -0.35698012  1.33752681]\n",
      " [-0.076218    0.2633732   0.9609381 ]\n",
      " [ 0.19018149  0.40407413 -1.82536616]\n",
      " [-0.24890299  1.9144975   0.39060843]]\n",
      "Sorted by columns\n",
      "\n",
      "[[-0.24890299 -0.35698012 -1.82536616]\n",
      " [-0.076218    0.19019274 -0.30820715]\n",
      " [ 0.0828318   0.2633732   0.39060843]\n",
      " [ 0.10708834  0.40407413  0.9609381 ]\n",
      " [ 0.19018149  1.9144975   1.33752681]]\n",
      "Sorted by rows\n",
      "\n",
      "[[-1.82536616 -0.35698012 -0.24890299]\n",
      " [-0.30820715 -0.076218    0.19019274]\n",
      " [ 0.0828318   0.2633732   0.39060843]\n",
      " [ 0.10708834  0.40407413  0.9609381 ]\n",
      " [ 0.19018149  1.33752681  1.9144975 ]]\n"
     ]
    }
   ],
   "source": [
    "arr = rng.standard_normal(10)\n",
    "print('Original\\n')\n",
    "print(arr)\n",
    "arr.sort()\n",
    "print('Sorted\\n')\n",
    "print(arr)\n",
    "\n",
    "arr = rng.standard_normal((5, 3))\n",
    "print('Original\\n')\n",
    "print(arr)\n",
    "print('Sorted by columns\\n')\n",
    "arr.sort(axis=0)\n",
    "print(arr)\n",
    "print('Sorted by rows\\n')\n",
    "arr.sort(axis=1)\n",
    "print(arr)"
   ]
  },
  {
   "cell_type": "markdown",
   "id": "76b071d2-c90e-4dda-b2c7-614393873334",
   "metadata": {},
   "source": [
    "### Unique and Other Set Logic"
   ]
  },
  {
   "cell_type": "code",
   "execution_count": 196,
   "id": "644bb15e-770e-4f78-a0f2-e281d8a3fabf",
   "metadata": {},
   "outputs": [
    {
     "name": "stdout",
     "output_type": "stream",
     "text": [
      "Union: [1 2 3 4 5 6 7 8]\n",
      "Intersection: [4 5]\n",
      "Difference (array1 - array2): [1 2 3]\n",
      "Symmetric Difference: [1 2 3 6 7 8]\n",
      "In1d (elements of array1 in array2): [False False False  True  True]\n",
      "Unique elements in array1: [1 2 3 4 5]\n",
      "['Alice' 'Bill' 'Bob' 'George' 'Joe' 'John' 'Will']\n"
     ]
    }
   ],
   "source": [
    "array1 = np.array([1, 2, 3, 4, 5])\n",
    "array2 = np.array([4, 5, 6, 7, 8])\n",
    "\n",
    "# Union\n",
    "union_result = np.union1d(array1, array2)\n",
    "print(\"Union:\", union_result)  # Output: [1 2 3 4 5 6 7 8]\n",
    "\n",
    "# Intersection\n",
    "intersection_result = np.intersect1d(array1, array2)\n",
    "print(\"Intersection:\", intersection_result)  # Output: [4 5]\n",
    "\n",
    "# Difference\n",
    "difference_result = np.setdiff1d(array1, array2)\n",
    "print(\"Difference (array1 - array2):\", difference_result)  # Output: [1 2 3]\n",
    "\n",
    "# Symmetric Difference\n",
    "symmetric_difference_result = np.setxor1d(array1, array2)\n",
    "print(\"Symmetric Difference:\", symmetric_difference_result)  # Output: [1 2 3 6 7 8]\n",
    "\n",
    "# In1d\n",
    "in1d_result = np.in1d(array1, array2)\n",
    "print(\"In1d (elements of array1 in array2):\", in1d_result)  # Output: [False False False  True  True]\n",
    "\n",
    "# Unique\n",
    "unique_result = np.unique(array1)\n",
    "print(\"Unique elements in array1:\", unique_result)  # Output: [1 2 3 4 5]\n",
    "\n",
    "names = np.array(['Bob','Will','Joe','Alice','Will','Bill','John','Bob','George','Joe'])\n",
    "print(np.unique(names))"
   ]
  },
  {
   "cell_type": "markdown",
   "id": "7ac00b12-305e-4ec5-b1a6-edd1283b3b70",
   "metadata": {},
   "source": [
    "#### Functions Overview\n",
    "\n",
    "1. **Union**: Returns the unique elements that are in either of the input arrays.\n",
    "   ```python\n",
    "   np.union1d(array1, array2)\n",
    "   ```\n",
    "\n",
    "2. **Intersection**: Returns the unique elements that are common to both input arrays.\n",
    "   ```python\n",
    "   np.intersect1d(array1, array2)\n",
    "   ```\n",
    "\n",
    "3. **Difference**: Returns the unique elements that are in the first array but not in the second array.\n",
    "   ```python\n",
    "   np.setdiff1d(array1, array2)\n",
    "   ```\n",
    "\n",
    "4. **Symmetric Difference**: Returns the unique elements that are in either of the input arrays but not in both.\n",
    "   ```python\n",
    "   np.setxor1d(array1, array2)\n",
    "   ```\n",
    "\n",
    "5. **In1d**: Tests whether each element of a 1-D array is also present in a second array. Returns a boolean array.\n",
    "   ```python\n",
    "   np.in1d(array1, array2)\n",
    "   ```\n",
    "\n",
    "6. **Unique**: Finds the unique elements of an array.\n",
    "   ```python\n",
    "   np.unique(array)\n",
    "   ```"
   ]
  },
  {
   "cell_type": "markdown",
   "id": "64b91236-9d70-432f-aa42-a4a4edacf879",
   "metadata": {},
   "source": [
    "### File Input and Output with Arrays"
   ]
  },
  {
   "cell_type": "markdown",
   "id": "57c9f4dd-6de6-4ddf-acdf-d96f369ea319",
   "metadata": {},
   "source": [
    "Handling file input and output with arrays in NumPy is straightforward and includes several methods to read from and write to files. Here are some of the common methods:\n",
    "\n",
    "### 1. Saving and Loading Arrays in Binary Format\n",
    "\n",
    "#### `np.save()`\n",
    "Saves an array to a binary file in `.npy` format.\n",
    "\n",
    "```python\n",
    "import numpy as np\n",
    "\n",
    "array = np.array([1, 2, 3, 4, 5])\n",
    "np.save('array.npy', array)\n",
    "```\n",
    "\n",
    "#### `np.load()`\n",
    "Loads an array from a binary `.npy` file.\n",
    "\n",
    "```python\n",
    "loaded_array = np.load('array.npy')\n",
    "print(loaded_array)  # Output: [1 2 3 4 5]\n",
    "```\n",
    "\n",
    "#### `np.savez()`\n",
    "Saves multiple arrays to a single `.npz` file.\n",
    "\n",
    "```python\n",
    "array1 = np.array([1, 2, 3])\n",
    "array2 = np.array([4, 5, 6])\n",
    "np.savez('arrays.npz', array1=array1, array2=array2)\n",
    "```\n",
    "\n",
    "#### `np.load()`\n",
    "Loads arrays from a `.npz` file.\n",
    "\n",
    "```python\n",
    "data = np.load('arrays.npz')\n",
    "print(data['array1'])  # Output: [1 2 3]\n",
    "print(data['array2'])  # Output: [4 5 6]\n",
    "```\n",
    "\n",
    "### 2. Saving and Loading Arrays in Text Format\n",
    "\n",
    "#### `np.savetxt()`\n",
    "Saves an array to a text file.\n",
    "\n",
    "```python\n",
    "array = np.array([[1, 2, 3], [4, 5, 6]])\n",
    "np.savetxt('array.txt', array, delimiter=',')\n",
    "```\n",
    "\n",
    "#### `np.loadtxt()`\n",
    "Loads an array from a text file.\n",
    "\n",
    "```python\n",
    "loaded_array = np.loadtxt('array.txt', delimiter=',')\n",
    "print(loaded_array)  # Output: [[1. 2. 3.]\n",
    "                     #          [4. 5. 6.]]\n",
    "```\n",
    "\n",
    "### 3. Reading and Writing Arrays to/from CSV Files\n",
    "\n",
    "#### `np.genfromtxt()`\n",
    "Loads data from a text file, with missing values handled as specified.\n",
    "\n",
    "```python\n",
    "array = np.genfromtxt('data.csv', delimiter=',')\n",
    "print(array)\n",
    "```\n",
    "\n",
    "#### `np.savetxt()`\n",
    "Saves an array to a CSV file.\n",
    "\n",
    "```python\n",
    "array = np.array([[1, 2, 3], [4, 5, 6]])\n",
    "np.savetxt('data.csv', array, delimiter=',')\n",
    "```\n",
    "\n",
    "### Example of File Operations\n",
    "\n",
    "Here’s an example showing how to save and load a NumPy array using both binary and text formats:\n",
    "\n",
    "```python\n",
    "import numpy as np\n",
    "\n",
    "# Create an example array\n",
    "array = np.array([[10, 20, 30], [40, 50, 60]])\n",
    "\n",
    "# Save array in binary format\n",
    "np.save('example_array.npy', array)\n",
    "\n",
    "# Load array from binary format\n",
    "loaded_array_binary = np.load('example_array.npy')\n",
    "print(\"Loaded from .npy file:\", loaded_array_binary)\n",
    "\n",
    "# Save array in text format (CSV)\n",
    "np.savetxt('example_array.csv', array, delimiter=',')\n",
    "\n",
    "# Load array from text format (CSV)\n",
    "loaded_array_text = np.loadtxt('example_array.csv', delimiter=',')\n",
    "print(\"Loaded from .csv file:\", loaded_array_text)\n",
    "```"
   ]
  },
  {
   "cell_type": "markdown",
   "id": "3d5f6aa1-b094-4b20-a31c-d30d630bab11",
   "metadata": {},
   "source": [
    "### Linear Algebra"
   ]
  },
  {
   "cell_type": "markdown",
   "id": "a0ea93a2-68e7-4e18-b1a7-8543cd1496d5",
   "metadata": {},
   "source": [
    "Please refer to the Notebook \"Notes On Vectors And Matrices [Basic Python For Data Science].ipynb\""
   ]
  }
 ],
 "metadata": {
  "kernelspec": {
   "display_name": "Python 3 (ipykernel)",
   "language": "python",
   "name": "python3"
  },
  "language_info": {
   "codemirror_mode": {
    "name": "ipython",
    "version": 3
   },
   "file_extension": ".py",
   "mimetype": "text/x-python",
   "name": "python",
   "nbconvert_exporter": "python",
   "pygments_lexer": "ipython3",
   "version": "3.10.12"
  }
 },
 "nbformat": 4,
 "nbformat_minor": 5
}
